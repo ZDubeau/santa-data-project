{
 "cells": [
  {
   "cell_type": "markdown",
   "metadata": {},
   "source": [
    "NOMBRE DE LETTRES AU PERE NOEL PAR PAYS"
   ]
  },
  {
   "cell_type": "code",
   "execution_count": null,
   "metadata": {},
   "outputs": [],
   "source": [
    "import psycopg2\n",
    "import os\n",
    "import pandas as pd\n",
    "#import numpy as np\n",
    "import matplotlib.pyplot as plt\n",
    "\n",
    "\n",
    "def chemin_fichier()-> str :\n",
    "    \"\"\"\n",
    "        Donne le nom du chemin complet du fichier actuel (.py) \n",
    "    \"\"\"\n",
    "    chemin=os.getcwd() #methode pour tourner avec jupyter\n",
    "    #chemin= path.dirname(path.abspath(__file__)) #methode d'Alice avec <os>\n",
    "    #chemin = str(Path(__file__).parent) #ma methode avec <path>\n",
    "    #print(chemin)\n",
    "    return chemin\n",
    "\n",
    "# etablir une connection\n",
    "def connexion_DB(fichierDB):\n",
    "    try:\n",
    "        conn = psycopg2.connect(user = \"santa\",\n",
    "                                password = \"claus\",\n",
    "                                host = \"localhost\",\n",
    "                                port = \"5432:5432\",\n",
    "                                database = fichierDB\n",
    "                                )\n",
    "\n",
    "        cur = conn.cursor()\n",
    "        # Print PostgreSQL Connection properties\n",
    "        #print ( \"Proprietes : \",conn.get_dsn_parameters(),\"\\n\")\n",
    "\n",
    "        # Print PostgreSQL version\n",
    "        cur.execute(\"SELECT version();\")\n",
    "        record = cur.fetchone()\n",
    "        #print(\"Version de PostgreSQL : \", record,\"\\n\")\n",
    "        cur.close()\n",
    "    except (Exception, psycopg2.Error) as error :\n",
    "        print (\"Error while connecting to PostgreSQL\", error)\n",
    "    \n",
    "    return conn\n",
    "\n",
    "def deconnexion_DB(conn):\n",
    "#closing database connection.\n",
    "    if(conn):\n",
    "        conn.close()\n",
    "        print(\"PostgreSQL connection is closed\")"
   ]
  },
  {
   "cell_type": "code",
   "execution_count": null,
   "metadata": {},
   "outputs": [],
   "source": [
    "conn=connexion_DB(\"santa_data\")\n",
    "cursor = conn.cursor()"
   ]
  },
  {
   "cell_type": "code",
   "execution_count": null,
   "metadata": {},
   "outputs": [],
   "source": [
    "#main\n",
    "if(conn): \n",
    "    # compte du nombre de lettres où le pays est renseigné (=pays non null)\n",
    "    rq_count='''\n",
    "                SELECT count(RQ_L.id_l)\n",
    "                FROM (SELECT DISTINCT id_l, id_p FROM T_enfants\n",
    "                        WHERE id_p IS NOT NULL) AS RQ_L\n",
    "                ;                       \n",
    "            '''     \n",
    "    cursor.execute(rq_count)\n",
    "    nb_tot=cursor.fetchone() \n",
    "    \n",
    "    # compte du nombre de lettres par Pays non Null\n",
    "    rq_select='''\n",
    "                SELECT count(id_l),pays\n",
    "                FROM (SELECT DISTINCT id_l, id_p FROM T_enfants) AS RQ_L\n",
    "                JOIN T_Pays ON RQ_L.id_p = T_pays.id_p\n",
    "                GROUP BY pays\n",
    "                ORDER BY count(id_l) DESC\n",
    "                ;        \n",
    "            '''     \n",
    "cursor.execute(rq_select)\n",
    "res=cursor.fetchall()\n",
    "\n",
    "#mise en forme du résultat de la requete\n",
    "print('\\nNOMBRE DE LETTRES PAR PAYS NON NULL : ',nb_tot[0])\n",
    "print('NOMBRE DE PAYS : ', cursor.rowcount)\n",
    "print('\\n                     PAYS','   NB_Lettres'.ljust(22),' % de ',nb_tot[0])\n",
    "      \n",
    "trait=\"-\"*70\n",
    "print(trait)\n",
    "for row in res:\n",
    "    print(str(row[1])[0:30].rjust(25),'       ',end='')\n",
    "    print(str(row[0]).ljust(15), str(round(row[0]/nb_tot[0]*100,2)).rjust(8),'%')\n",
    "    "
   ]
  },
  {
   "cell_type": "code",
   "execution_count": null,
   "metadata": {},
   "outputs": [],
   "source": [
    "#Barplot horizontal :\n",
    "\n",
    "#    on utilise barh, en remplaçant width par height et bottom par left.\n",
    "\n",
    "\n",
    "nb_p_df=pd.read_sql_query ( rq_select , conn , index_col = None , coerce_float = True ,\n",
    "                            params = None , parse_dates = None , chunksize = None )\n",
    "r = range(len(nb_p_df))\n",
    "\n",
    "fig=plt.figure(figsize=(25,35))\n",
    "barWidth = 0.4\n",
    "\n",
    "plt.barh(r, nb_p_df['count'], height = barWidth, color = ['yellow' for i in nb_p_df['count']],\\\n",
    "           edgecolor = ['blue' for i in nb_p_df['count']], linestyle = 'solid', hatch ='/',linewidth = 3)\n",
    "\n",
    "plt.yticks(range(len(nb_p_df['count'])), nb_p_df['pays'])\n",
    "#Dans un barplot, pour supprimer les ticks sur l'axe des x (tout en conservant les labels) : faire \n",
    "plt.gca().axes.xaxis.set_ticks_position('none')\n",
    "\n",
    "plt.show()  "
   ]
  },
  {
   "cell_type": "code",
   "execution_count": null,
   "metadata": {},
   "outputs": [],
   "source": []
  }
 ],
 "metadata": {
  "kernelspec": {
   "display_name": "Python 3",
   "language": "python",
   "name": "python3"
  },
  "language_info": {
   "codemirror_mode": {
    "name": "ipython",
    "version": 3
   },
   "file_extension": ".py",
   "mimetype": "text/x-python",
   "name": "python",
   "nbconvert_exporter": "python",
   "pygments_lexer": "ipython3",
   "version": "3.6.8"
  }
 },
 "nbformat": 4,
 "nbformat_minor": 2
}
