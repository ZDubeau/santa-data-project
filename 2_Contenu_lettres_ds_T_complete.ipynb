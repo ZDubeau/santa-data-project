{
 "cells": [
  {
   "cell_type": "markdown",
   "metadata": {},
   "source": [
    "Import du contenu des lettres dans une table de travail a partir\n",
    "de laquelle va se faire le nettoyage des données\n",
    "Les lettres du pere noel, dezippee, sont dans le dossier < /Partie_1/lettres_pere_noel >"
   ]
  },
  {
   "cell_type": "code",
   "execution_count": null,
   "metadata": {},
   "outputs": [],
   "source": [
    "import psycopg2\n",
    "import os\n",
    "import csv\n",
    "import pandas as pd"
   ]
  },
  {
   "cell_type": "code",
   "execution_count": null,
   "metadata": {},
   "outputs": [],
   "source": [
    "def chemin_fichier()-> str :\n",
    "    \"\"\"\n",
    "        Donne le nom du chemin complet du fichier actuel (.py) \n",
    "    \"\"\"\n",
    "    chemin=os.getcwd() #methode pour tourner avec jupyter\n",
    "    #chemin= path.dirname(path.abspath(__file__)) #methode d'Alice avec <os>\n",
    "    #chemin = str(Path(__file__).parent) #ma methode avec <path>\n",
    "    #print(chemin)\n",
    "    return chemin\n"
   ]
  },
  {
   "cell_type": "code",
   "execution_count": null,
   "metadata": {},
   "outputs": [],
   "source": [
    "# etablir une connection\n",
    "def connexion_DB(fichierDB):\n",
    "    try:\n",
    "        conn = psycopg2.connect(user = \"santa\",\n",
    "                                password = \"claus\",\n",
    "                                host = \"localhost\",\n",
    "                                port = \"5432:5432\",\n",
    "                                database = fichierDB\n",
    "                                )\n",
    "\n",
    "        cur = conn.cursor()\n",
    "        # Print PostgreSQL Connection properties\n",
    "        #print ( \"Proprietes : \",conn.get_dsn_parameters(),\"\\n\")\n",
    "\n",
    "        # Print PostgreSQL version\n",
    "        cur.execute(\"SELECT version();\")\n",
    "        record = cur.fetchone()\n",
    "        #print(\"Version de PostgreSQL : \", record,\"\\n\")\n",
    "        cur.close()\n",
    "    except (Exception, psycopg2.Error) as error :\n",
    "        print (\"Error while connecting to PostgreSQL\", error)\n",
    "    \n",
    "    return conn"
   ]
  },
  {
   "cell_type": "code",
   "execution_count": null,
   "metadata": {},
   "outputs": [],
   "source": [
    "def deconnexion_DB(conn):\n",
    "#closing database connection.\n",
    "    if(conn):\n",
    "        conn.close()\n",
    "        print(\"PostgreSQL connection is closed\")"
   ]
  },
  {
   "cell_type": "code",
   "execution_count": null,
   "metadata": {},
   "outputs": [],
   "source": [
    "conn=connexion_DB(\"santa_data\")\n",
    "\n",
    "path_dossier_letters=chemin_fichier() +'/Partie_1/lettres_pere_noel'"
   ]
  },
  {
   "cell_type": "code",
   "execution_count": null,
   "metadata": {},
   "outputs": [],
   "source": [
    "# lecture de chaque lettre et import dans la table de travail T_complete\n",
    "try:\n",
    "    conn=connexion_DB(\"santa_data\")\n",
    "    cursor = conn.cursor()\n",
    "    \n",
    "    #suppression des enregistrements de la T_complete avant de refaire tourne le programme\n",
    "    cursor.execute(\"DELETE FROM T_complete\")\n",
    "    \n",
    "    #lecture de la T_letters et extraction complete de (Id_l et nom_fichier)\n",
    "    cursor.execute(\"SELECT * FROM T_lettres\")\n",
    "    resultat=cursor.fetchall() #res : liste de tuples\n",
    "    \n",
    "    count=0\n",
    "    for tple in resultat:\n",
    "        #print(tple[0],' et ',tple[1]) \n",
    "        #lecture du fichier lettre  correspondant a tpl(1)<lettre_....pnoel>''\n",
    "        path_lettre=path_dossier_letters +'/'+ tple[1]\n",
    "        with open(path_lettre, \"r\", encoding=\"WINDOWS-1258\") as data:\n",
    "            data = data.read()\n",
    "            #construction du tuple des valeurs a inserrer dans la table T_complete\n",
    "            d_insert=[]\n",
    "            d_insert.append(tple[0]) # l'Id_lettre\n",
    "            d_insert.append(tple[1]) # le nom fe fichier\n",
    "            #print(d_insert)\n",
    "            df_l=pd.DataFrame(data.splitlines()) # df en 1 colonne de 5 lignes\n",
    "            df_l=df_l.T # transpose en 1 ligne de 5 colonnes\n",
    "            \n",
    "            for colonne in df_l:\n",
    "                d_insert.append(df_l[colonne][0].lstrip()) #ajouter la valeur de la colonne dans la data_values\n",
    "                #print(d_insert)\n",
    "            data_values=tuple(d_insert)\n",
    "            #print('data_values : ',data_values)\n",
    "    \n",
    "            insert_data_query = f\"\"\" \n",
    "                                INSERT INTO T_complete\n",
    "                                (ID,id_l,nom_lettre,nom_enfant,age,Pays,Contenu,Numero) \n",
    "                                VALUES (default,%s,%s,%s,%s,%s,%s,%s)\n",
    "                                \"\"\"      \n",
    "            cursor.execute(insert_data_query,data_values)\n",
    "            conn.commit()\n",
    "            count += cursor.rowcount\n",
    "    print (count, \"Record inserted successfully into T_Complete\")\n",
    "\n",
    "except (Exception, psycopg2.Error) as error :\n",
    "    if(conn):\n",
    "        print(\"Failed to insert record into table T_complete\", error)\n",
    "\n",
    "finally:\n",
    "    #closing database connection.\n",
    "    if(conn):\n",
    "        cursor.close()\n",
    "        deconnexion_DB(conn)"
   ]
  },
  {
   "cell_type": "code",
   "execution_count": null,
   "metadata": {
    "scrolled": true
   },
   "outputs": [],
   "source": [
    "# rcontrole du resultat sur la table T_complete \n",
    "conn=connexion_DB(\"santa_data\")\n",
    "cursor = conn.cursor()\n",
    "\n",
    "cursor.execute(\"SELECT Pays,nom_enfant,age,contenu FROM T_complete order by Age;\")\n",
    "    #resultats=cur.execute(select_SQL)'\n",
    "res=cursor.fetchall()\n",
    "#print(res)\n",
    "\n",
    "print('\\nPays'.ljust(15),'nom_enfant'.ljust(25),'age'.ljust(30),\n",
    "    'Contenu'.ljust(10),''.ljust(15))\n",
    "trait=\"-\"*90\n",
    "print(trait)\n",
    "for row in res:\n",
    "    print(str(row[0]).ljust(15),end='')\n",
    "    print(str(row[1]).ljust(25),end='')\n",
    "    print(str(row[2]).ljust(30),end='')\n",
    "    print(str(row[3])[0:30].ljust(10))\n",
    "    \n",
    "\n",
    "cursor.close()\n",
    "deconnexion_DB(conn)\n"
   ]
  },
  {
   "cell_type": "code",
   "execution_count": null,
   "metadata": {},
   "outputs": [],
   "source": []
  }
 ],
 "metadata": {
  "kernelspec": {
   "display_name": "Python 3",
   "language": "python",
   "name": "python3"
  },
  "language_info": {
   "codemirror_mode": {
    "name": "ipython",
    "version": 3
   },
   "file_extension": ".py",
   "mimetype": "text/x-python",
   "name": "python",
   "nbconvert_exporter": "python",
   "pygments_lexer": "ipython3",
   "version": "3.6.8"
  }
 },
 "nbformat": 4,
 "nbformat_minor": 2
}
