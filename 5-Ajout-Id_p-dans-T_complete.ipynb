{
 "cells": [
  {
   "cell_type": "markdown",
   "metadata": {},
   "source": [
    "Ajout d'une colonne Id_p dans la table de travail T_complete pour remplacer Pays\n",
    "et insertion des id_p d'apres T_Pays"
   ]
  },
  {
   "cell_type": "code",
   "execution_count": null,
   "metadata": {},
   "outputs": [],
   "source": [
    "import psycopg2\n",
    "import os\n",
    "import csv\n",
    "import pandas as pd\n",
    "\n",
    "def chemin_fichier()-> str :\n",
    "    \"\"\"\n",
    "        Donne le nom du chemin complet du fichier actuel (.py) \n",
    "    \"\"\"\n",
    "    chemin=os.getcwd() #methode pour tourner avec jupyter\n",
    "    #chemin= path.dirname(path.abspath(__file__)) #methode d'Alice avec <os>\n",
    "    #chemin = str(Path(__file__).parent) #ma methode avec <path>\n",
    "    #print(chemin)\n",
    "    return chemin\n",
    "\n",
    "# etablir une connection\n",
    "def connexion_DB(fichierDB):\n",
    "    try:\n",
    "        conn = psycopg2.connect(user = \"santa\",\n",
    "                                password = \"claus\",\n",
    "                                host = \"localhost\",\n",
    "                                port = \"5432:5432\",\n",
    "                                database = fichierDB\n",
    "                                )\n",
    "\n",
    "        cur = conn.cursor()\n",
    "        # Print PostgreSQL Connection properties\n",
    "        #print ( \"Proprietes : \",conn.get_dsn_parameters(),\"\\n\")\n",
    "\n",
    "        # Print PostgreSQL version\n",
    "        cur.execute(\"SELECT version();\")\n",
    "        record = cur.fetchone()\n",
    "        #print(\"Version de PostgreSQL : \", record,\"\\n\")\n",
    "        cur.close()\n",
    "    except (Exception, psycopg2.Error) as error :\n",
    "        print (\"Error while connecting to PostgreSQL\", error)\n",
    "    \n",
    "    return conn\n",
    "\n",
    "def deconnexion_DB(conn):\n",
    "#closing database connection.\n",
    "    if(conn):\n",
    "        conn.close()\n",
    "        print(\"PostgreSQL connection is closed\")\n"
   ]
  },
  {
   "cell_type": "code",
   "execution_count": null,
   "metadata": {},
   "outputs": [],
   "source": [
    "conn=connexion_DB(\"santa_data\")\n",
    "cursor = conn.cursor()"
   ]
  },
  {
   "cell_type": "code",
   "execution_count": null,
   "metadata": {},
   "outputs": [],
   "source": [
    "#ajout d'une colonne id_p dans T_complete\n",
    "try:\n",
    "    if(conn):\n",
    "        req_modif='''\n",
    "                ALTER TABLE T_complete \n",
    "                ADD COLUMN id_p int;\n",
    "                '''\n",
    "        cursor.execute(req_modif)\n",
    "    \n",
    "except(Exception, psycopg2.Error) as error :\n",
    "    print (\"Erreur lors de la modification de table T_complete\", error)\n",
    "    "
   ]
  },
  {
   "cell_type": "code",
   "execution_count": null,
   "metadata": {},
   "outputs": [],
   "source": [
    "# mise a jour de T_complete par insertion des valeurs de id_p d'apres la T_pays\n",
    "try:\n",
    "    if(conn):     \n",
    "        rq_maj='''UPDATE T_complete AS TC\n",
    "                SET id_p= TP.ID_p\n",
    "                FROM T_pays AS TP\n",
    "                WHERE TC.Pays = TP.Pays;\n",
    "                '''\n",
    "        cursor.execute(rq_maj)\n",
    "        conn.commit()\n",
    "        \n",
    "        rq_select='''\n",
    "                SELECT ID , nom_lettre ,TC.id_p, TC.Pays ,TP.Pays , TP.ID_p\n",
    "                FROM T_complete TC, T_pays TP\n",
    "                WHERE TC.id_p=TP.ID_p;\n",
    "                '''\n",
    "        cursor.execute(rq_select)\n",
    "        res=cursor.fetchall()\n",
    "        print('\\nTC_id'.ljust(8),'TC_pays'.ljust(20), 'TP_pays'.ljust(20),'TP_id'.ljust(8))\n",
    "        trait=\"-\"*45\n",
    "        print(trait)\n",
    "        for row in res:\n",
    "            print(str(row[2]).ljust(8),end='')\n",
    "            print(str(row[3]).ljust(20),end='')\n",
    "            print(str(row[4]).ljust(20),end='')\n",
    "            print(str(row[5]).ljust(8))\n",
    "        \n",
    "        \n",
    "except(Exception, psycopg2.Error) as error :\n",
    "    print (\"Erreur lors de la maj de la table T_complete \", error)\n",
    "    \n",
    "finally:\n",
    "    #closing database connection.\n",
    "    if(conn):\n",
    "        cursor.close()\n",
    "        deconnexion_DB(conn)\n",
    " "
   ]
  }
 ],
 "metadata": {
  "kernelspec": {
   "display_name": "Python 3",
   "language": "python",
   "name": "python3"
  },
  "language_info": {
   "codemirror_mode": {
    "name": "ipython",
    "version": 3
   },
   "file_extension": ".py",
   "mimetype": "text/x-python",
   "name": "python",
   "nbconvert_exporter": "python",
   "pygments_lexer": "ipython3",
   "version": "3.6.8"
  }
 },
 "nbformat": 4,
 "nbformat_minor": 2
}
