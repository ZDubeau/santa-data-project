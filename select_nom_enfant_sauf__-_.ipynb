{
 "cells": [
  {
   "cell_type": "code",
   "execution_count": null,
   "metadata": {},
   "outputs": [],
   "source": [
    "rq_select='''\n",
    "          SELECT ID,nom_enfant,age,Pays \n",
    "          FROM T_complete WHERE length(nom_enfant)>8\n",
    "          EXCEPT\n",
    "              SELECT ID,nom_enfant,age,Pays \n",
    "              FROM T_complete WHERE nom_enfant LIKE '%-%';\n",
    "          '''    \n",
    "cursor.execute(rq_select)\n",
    "res=cursor.fetchall()\n",
    "\n",
    "print('\\nID'.ljust(8),'nom_enfant'.ljust(22),'age'.ljust(25),'Pays'.ljust(20))\n",
    "trait=\"-\"*70\n",
    "print(trait)\n",
    "for row in res:\n",
    "    print(str(row[0]).ljust(8),end='')\n",
    "    print(str(row[1]).ljust(25),end='')\n",
    "    print(str(row[2]).ljust(25),end='')\n",
    "    print(str(row[3]).ljust(15))"
   ]
  }
 ],
 "metadata": {
  "kernelspec": {
   "display_name": "Python 3",
   "language": "python",
   "name": "python3"
  },
  "language_info": {
   "codemirror_mode": {
    "name": "ipython",
    "version": 3
   },
   "file_extension": ".py",
   "mimetype": "text/x-python",
   "name": "python",
   "nbconvert_exporter": "python",
   "pygments_lexer": "ipython3",
   "version": "3.7.4"
  }
 },
 "nbformat": 4,
 "nbformat_minor": 2
}
