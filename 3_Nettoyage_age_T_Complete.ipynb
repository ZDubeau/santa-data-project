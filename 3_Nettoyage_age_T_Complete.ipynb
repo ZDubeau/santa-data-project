{
 "cells": [
  {
   "cell_type": "markdown",
   "metadata": {},
   "source": [
    "# Nettoyage de la table T_complete\n",
    "Requete SELECT test et instruction UPDATE pour mise à jour\n",
    "Analyse des colonnes Pays et age"
   ]
  },
  {
   "cell_type": "code",
   "execution_count": null,
   "metadata": {},
   "outputs": [],
   "source": [
    "import psycopg2\n",
    "import os\n",
    "import csv\n",
    "import pandas as pd\n",
    "import re"
   ]
  },
  {
   "cell_type": "code",
   "execution_count": null,
   "metadata": {},
   "outputs": [],
   "source": [
    "def chemin_fichier()-> str :\n",
    "    \"\"\"\n",
    "        Donne le nom du chemin complet du fichier actuel (.py) \n",
    "    \"\"\"\n",
    "    chemin=os.getcwd() #methode pour tourner avec jupyter\n",
    "    #chemin= path.dirname(path.abspath(__file__)) #methode d'Alice avec <os>\n",
    "    #chemin = str(Path(__file__).parent) #ma methode avec <path>\n",
    "    #print(chemin)\n",
    "    return chemin"
   ]
  },
  {
   "cell_type": "code",
   "execution_count": null,
   "metadata": {},
   "outputs": [],
   "source": [
    "# etablir une connection\n",
    "def connexion_DB(fichierDB):\n",
    "    try:\n",
    "        conn = psycopg2.connect(user = \"santa\",\n",
    "                                password = \"claus\",\n",
    "                                host = \"localhost\",\n",
    "                                port = \"5432:5432\",\n",
    "                                database = fichierDB\n",
    "                                )\n",
    "\n",
    "        cur = conn.cursor()\n",
    "        # Print PostgreSQL Connection properties\n",
    "        #print ( \"Proprietes : \",conn.get_dsn_parameters(),\"\\n\")\n",
    "\n",
    "        # Print PostgreSQL version\n",
    "        cur.execute(\"SELECT version();\")\n",
    "        record = cur.fetchone()\n",
    "        #print(\"Version de PostgreSQL : \", record,\"\\n\")\n",
    "        cur.close()\n",
    "    except (Exception, psycopg2.Error) as error :\n",
    "        print (\"Error while connecting to PostgreSQL\", error)\n",
    "    \n",
    "    return conn"
   ]
  },
  {
   "cell_type": "code",
   "execution_count": null,
   "metadata": {},
   "outputs": [],
   "source": [
    "def deconnexion_DB(conn):\n",
    "#closing database connection.\n",
    "    if(conn):\n",
    "        conn.close()\n",
    "        print(\"PostgreSQL connection is closed\")"
   ]
  },
  {
   "cell_type": "code",
   "execution_count": null,
   "metadata": {},
   "outputs": [],
   "source": [
    "conn=connexion_DB(\"santa_data\")\n",
    "\n",
    "path_dossier_letters=chemin_fichier() +'/Partie_1/lettres_pere_noel'\n",
    "\n",
    "cursor = conn.cursor()"
   ]
  },
  {
   "cell_type": "code",
   "execution_count": null,
   "metadata": {
    "scrolled": true
   },
   "outputs": [],
   "source": [
    "# analyse des differentes occurences du champ 'age'\n",
    "# pour preparer les UPDATE\n",
    "\n",
    "rq_select='''\n",
    "          SELECT\n",
    "          count(ID),\n",
    "          age\n",
    "          FROM T_complete\n",
    "          GROUP BY age\n",
    "          ORDER BY age;\n",
    "          '''    \n",
    "cursor.execute(rq_select)\n",
    "res=cursor.fetchall()\n",
    "\n",
    "print('\\nNb'.ljust(8),'age'.ljust(15))\n",
    "trait=\"-\"*40\n",
    "print(trait)\n",
    "for row in res:\n",
    "    print(str(row[0]).ljust(8),end='')\n",
    "    print(str(row[1]).ljust(15))\n"
   ]
  },
  {
   "cell_type": "code",
   "execution_count": null,
   "metadata": {
    "scrolled": true
   },
   "outputs": [],
   "source": [
    "# analyse des differentes occurences du champ 'Pays'\n",
    "# pour preparer les UPDATE\n",
    "\n",
    "rq_select='''\n",
    "          SELECT\n",
    "          count(ID),\n",
    "          Pays\n",
    "          FROM T_complete\n",
    "          GROUP BY Pays\n",
    "          ORDER BY Pays;\n",
    "          '''    \n",
    "cursor.execute(rq_select)\n",
    "res=cursor.fetchall()\n",
    "\n",
    "print('\\nNb'.ljust(8),'pays'.ljust(20))\n",
    "trait=\"-\"*40\n",
    "print(trait)\n",
    "for row in res:\n",
    "    print(str(row[0]).ljust(8),end='')\n",
    "    print(str(row[1]).ljust(20))"
   ]
  },
  {
   "cell_type": "code",
   "execution_count": null,
   "metadata": {
    "scrolled": true
   },
   "outputs": [],
   "source": [
    "# preparation et visualisation des modifications pour harmoniser le champ 'age'\n",
    "#avant les UPDATE (affiche les lignes concernees) et apres (aucune ligne)\n",
    "\n",
    "rq_select='''\n",
    "          SELECT\n",
    "          ID,\n",
    "          id_l,\n",
    "          nom_lettre,\n",
    "          nom_enfant,\n",
    "          age,\n",
    "          pays,\n",
    "          Contenu\n",
    "          FROM T_complete\n",
    "          order by pays\n",
    "          ;\n",
    "          '''\n",
    "cursor.execute(rq_select)\n",
    "res=cursor.fetchall()\n",
    "\n",
    "#print('\\nid_l'.ljust(8),'nom_enfant'.ljust(25),\n",
    "#    'age'.ljust(15),'Pays'.ljust(10),'Contenu'.ljust(15))\n",
    "print('\\nID'.ljust(8),'id_l'.ljust(8),'nom_lettre'.ljust(20),'nom_enfant'.ljust(15),\n",
    "    'age'.ljust(15),'Pays'.ljust(10),'Contenu'.ljust(15))\n",
    "trait=\"-\"*90\n",
    "print(trait)\n",
    "for row in res:\n",
    "    print(str(row[0]).ljust(8),end='')\n",
    "    print(str(row[1]).ljust(8),end='')\n",
    "    print(str(row[2]).ljust(20),end='')\n",
    "    print(str(row[3]).ljust(15),end='')\n",
    "    print(str(row[4]).ljust(15),end='')\n",
    "    print(str(row[5]).ljust(10),end='')\n",
    "    print(str(row[6])[0:30].ljust(15))\n",
    "        \n",
    "            "
   ]
  },
  {
   "cell_type": "markdown",
   "metadata": {},
   "source": [
    "ID,id_l,nom_lettre,nom_enfant,age,Pays,Contenu,Numero"
   ]
  },
  {
   "cell_type": "code",
   "execution_count": null,
   "metadata": {},
   "outputs": [],
   "source": [
    "#traitement des pays où ''  mis a 'None'\n",
    "cursor.execute('''\n",
    "                UPDATE T_complete \n",
    "                SET Pays=NULL\n",
    "                WHERE Pays='';\n",
    "               ''')\n",
    "conn.commit()"
   ]
  },
  {
   "cell_type": "code",
   "execution_count": null,
   "metadata": {
    "scrolled": true
   },
   "outputs": [],
   "source": [
    "#traitement des pays où '5 ans' et 1 2éme prenom dans age (ID=704 et 750)\n",
    "cursor.execute('''\n",
    "                UPDATE T_complete \n",
    "                SET nom_enfant=nom_enfant || ',' || age\n",
    "                WHERE Pays='5 ans';\n",
    "               ''')\n",
    "conn.commit()"
   ]
  },
  {
   "cell_type": "code",
   "execution_count": null,
   "metadata": {},
   "outputs": [],
   "source": [
    "#traitement des pays où '5 ans'\n",
    "cursor.execute('''UPDATE T_complete \n",
    "                SET age=Pays\n",
    "                WHERE ID=704 OR ID=750;\n",
    "               ''')\n",
    "conn.commit()"
   ]
  },
  {
   "cell_type": "code",
   "execution_count": null,
   "metadata": {},
   "outputs": [],
   "source": [
    "#traitement des pays où '5 ans'\n",
    "cursor.execute('''UPDATE T_complete \n",
    "                SET Pays = NULL\n",
    "                WHERE ID=704 OR ID=750;\n",
    "               ''')\n",
    "conn.commit()"
   ]
  },
  {
   "cell_type": "code",
   "execution_count": null,
   "metadata": {
    "scrolled": true
   },
   "outputs": [],
   "source": [
    "#age='France' mis dans Pays\n",
    "cursor.execute('''UPDATE T_complete \n",
    "                SET Pays = age\n",
    "                WHERE age='France';\n",
    "               ''')\n",
    "conn.commit()"
   ]
  },
  {
   "cell_type": "code",
   "execution_count": null,
   "metadata": {},
   "outputs": [],
   "source": [
    "#age='France' mis A None\n",
    "cursor.execute('''UPDATE T_complete \n",
    "                SET age = NULL\n",
    "                WHERE age='France';\n",
    "               ''')\n",
    "conn.commit()"
   ]
  },
  {
   "cell_type": "code",
   "execution_count": null,
   "metadata": {},
   "outputs": [],
   "source": [
    "#age= '1 pays' : age mis dans Pays ; et age mis à None\n",
    "cursor.execute('''UPDATE T_complete \n",
    "                SET Pays = age, age = NULL\n",
    "                WHERE age IN (SELECT DISTINCT Pays FROM T_COMPLETE)\n",
    "          ;\n",
    "               ''')\n",
    "conn.commit()"
   ]
  },
  {
   "cell_type": "code",
   "execution_count": null,
   "metadata": {},
   "outputs": [],
   "source": [
    "#age exprimé en mois, traduit en année, et mois remplacé par ans\n",
    "cursor.execute('''UPDATE T_complete \n",
    "                SET age = trunc(cast(trim(trailing ' mois et' from age) as numeric)/12 ,1) || ' ans'\n",
    "                WHERE age SIMILAR TO '%mois%'\n",
    "          ;\n",
    "               ''')\n",
    "conn.commit()"
   ]
  },
  {
   "cell_type": "code",
   "execution_count": null,
   "metadata": {},
   "outputs": [],
   "source": [
    "# demi age  remplace par .5\n",
    "cursor.execute('''UPDATE T_complete \n",
    "                SET age = regexp_replace(age, 'et demi| et demi|  et demi', '.5') \n",
    "                WHERE age SIMILAR TO '%et demi%'\n",
    "          ;\n",
    "               ''')\n",
    "conn.commit()"
   ]
  },
  {
   "cell_type": "code",
   "execution_count": null,
   "metadata": {},
   "outputs": [],
   "source": [
    "#a# 1/2 age  remplace par .5 (\\s+  = 1 espace ou +)\n",
    "cursor.execute('''UPDATE T_complete \n",
    "                SET age = regexp_replace(age, '(1/2|\\s+1/2| et 1/2|, 1/2|an 1/2| ans 1/2)', '.5')\n",
    "                WHERE age SIMILAR TO '%1/2%'\n",
    "          ;\n",
    "               ''')\n",
    "conn.commit()"
   ]
  },
  {
   "cell_type": "code",
   "execution_count": null,
   "metadata": {},
   "outputs": [],
   "source": [
    "# ½ age  remplace par .5 (\\s+  = 1 espace ou +)\n",
    "cursor.execute('''UPDATE T_complete \n",
    "                SET age = regexp_replace(age, '(½| ½)', '.5')\n",
    "                WHERE age SIMILAR TO '%½%'\n",
    "          ;\n",
    "               ''')\n",
    "conn.commit()"
   ]
  },
  {
   "cell_type": "code",
   "execution_count": null,
   "metadata": {},
   "outputs": [],
   "source": [
    "# an et dem  remplace par .5 (\\s+  = 1 espace ou +)\n",
    "cursor.execute('''UPDATE T_complete \n",
    "                SET age = regexp_replace(age, 'an et dem', '.5')\n",
    "                WHERE age SIMILAR TO '%an et dem%'\n",
    "          ;\n",
    "               ''')\n",
    "conn.commit()"
   ]
  },
  {
   "cell_type": "code",
   "execution_count": null,
   "metadata": {},
   "outputs": [],
   "source": [
    "# et d. remplace par .5 (\\s+  = 1 espace ou +)\n",
    "cursor.execute('''UPDATE T_complete \n",
    "                SET age = regexp_replace(age, '\\s+et d|\\s+et de', '.5')\n",
    "                WHERE age SIMILAR TO '%et d%'\n",
    "          ;\n",
    "               ''')\n",
    "conn.commit()"
   ]
  },
  {
   "cell_type": "code",
   "execution_count": null,
   "metadata": {},
   "outputs": [],
   "source": [
    "# 08 remplace par 8\n",
    "cursor.execute('''UPDATE T_complete \n",
    "                SET age = regexp_replace(age, '08', '8')\n",
    "                WHERE age SIMILAR TO '%08%'\n",
    "          ;\n",
    "               ''')\n",
    "conn.commit()"
   ]
  },
  {
   "cell_type": "code",
   "execution_count": null,
   "metadata": {},
   "outputs": [],
   "source": [
    "# , remplace par .\n",
    "cursor.execute('''UPDATE T_complete \n",
    "                SET age = regexp_replace(age, ',', '.')\n",
    "                WHERE age SIMILAR TO '%,5 ans%'\n",
    "          ;\n",
    "               ''')\n",
    "conn.commit()"
   ]
  },
  {
   "cell_type": "code",
   "execution_count": null,
   "metadata": {},
   "outputs": [],
   "source": [
    "# , remplace par .\n",
    "cursor.execute('''UPDATE T_complete \n",
    "                SET age = regexp_replace(age, 'edemie', '.5')\n",
    "                WHERE age SIMILAR TO '%edemie%'\n",
    "          ;\n",
    "               ''')\n",
    "conn.commit()\n"
   ]
  },
  {
   "cell_type": "code",
   "execution_count": null,
   "metadata": {},
   "outputs": [],
   "source": [
    "# ' ' supprime en fin de chaine .\n",
    "cursor.execute('''UPDATE T_complete \n",
    "                SET age = TRIM(TRAILING ' ' FROM age)\n",
    "                WHERE age SIMILAR TO '%ans %'\n",
    "          ;\n",
    "               ''')\n",
    "conn.commit()"
   ]
  },
  {
   "cell_type": "code",
   "execution_count": null,
   "metadata": {},
   "outputs": [],
   "source": [
    "# supprime la repetition de ans .\n",
    "cursor.execute('''UPDATE T_complete \n",
    "                SET age = regexp_replace(age, 'ans ans', 'ans')\n",
    "                WHERE age SIMILAR TO '%ans ans%'\n",
    "          ;\n",
    "               ''')\n",
    "conn.commit()\n"
   ]
  },
  {
   "cell_type": "code",
   "execution_count": null,
   "metadata": {},
   "outputs": [],
   "source": [
    "# supprime '1 '\n",
    "cursor.execute('''UPDATE T_complete \n",
    "                SET age = regexp_replace(age, '2   1 ans', '2 ans')\n",
    "                WHERE age SIMILAR TO '%2   1 ans%'\n",
    "          ;\n",
    "               ''')\n",
    "conn.commit()\n",
    "\n"
   ]
  },
  {
   "cell_type": "code",
   "execution_count": null,
   "metadata": {},
   "outputs": [],
   "source": [
    "# supprime 'a '\n",
    "cursor.execute('''UPDATE T_complete \n",
    "                SET age = regexp_replace(age, '2 a ans', '2 ans')\n",
    "                WHERE age SIMILAR TO '%2 a ans%'\n",
    "          ;\n",
    "               ''')\n",
    "conn.commit()"
   ]
  },
  {
   "cell_type": "code",
   "execution_count": null,
   "metadata": {},
   "outputs": [],
   "source": [
    "# supprime 'ann '\n",
    "cursor.execute('''UPDATE T_complete \n",
    "                SET age = regexp_replace(age, 'ann ', '')\n",
    "                WHERE age SIMILAR TO '%ann %'\n",
    "          ;\n",
    "               ''')\n",
    "conn.commit()"
   ]
  },
  {
   "cell_type": "code",
   "execution_count": null,
   "metadata": {},
   "outputs": [],
   "source": [
    "# change 3/4 en .7\n",
    "cursor.execute('''UPDATE T_complete \n",
    "                SET age = regexp_replace(age, '8 3/4 ans', '8.7 ans')\n",
    "                WHERE age SIMILAR TO '%8 3/4 ans%'\n",
    "          ;\n",
    "               ''')\n",
    "conn.commit()"
   ]
  },
  {
   "cell_type": "code",
   "execution_count": null,
   "metadata": {},
   "outputs": [],
   "source": [
    "# change ben j'en a ans|j'ai en ''\n",
    "cursor.execute('''UPDATE T_complete \n",
    "                SET age = regexp_replace(age, 'ben j''en a ans|j''ai' , '')\n",
    "                WHERE age SIMILAR TO '%j''%'\n",
    "          ;\n",
    "               ''')\n",
    "conn.commit()\n"
   ]
  },
  {
   "cell_type": "code",
   "execution_count": null,
   "metadata": {},
   "outputs": [],
   "source": [
    "#age='' mis A None\n",
    "cursor.execute('''UPDATE T_complete \n",
    "                SET age = NULL\n",
    "                WHERE age='None' or age='';\n",
    "               ''')\n",
    "conn.commit()"
   ]
  },
  {
   "cell_type": "code",
   "execution_count": null,
   "metadata": {},
   "outputs": [],
   "source": [
    "# change ben j'en a ans|j'ai en ''\n",
    "cursor.execute('''UPDATE T_complete \n",
    "                SET age = regexp_replace(age, 'onze' , '11')\n",
    "                WHERE age SIMILAR TO '%onze%'\n",
    "          ;\n",
    "               ''')\n",
    "conn.commit()\n"
   ]
  },
  {
   "cell_type": "code",
   "execution_count": null,
   "metadata": {},
   "outputs": [],
   "source": [
    "# change '2 et4mo ans' en '2.4ans'\n",
    "cursor.execute('''UPDATE T_complete \n",
    "                SET age = regexp_replace(age, '2 et4mo', '2.4')\n",
    "                WHERE age SIMILAR TO '%2 et4mo ans%' \n",
    "          ;\n",
    "               ''')\n",
    "conn.commit()"
   ]
  },
  {
   "cell_type": "code",
   "execution_count": null,
   "metadata": {},
   "outputs": [],
   "source": [
    "# change '5/5 ans' en '5.5 ans'\n",
    "cursor.execute('''UPDATE T_complete \n",
    "                SET age = regexp_replace(age, '/', '.')\n",
    "                WHERE age SIMILAR TO '%(5/5)%' \n",
    "          ;\n",
    "               ''')\n",
    "conn.commit()"
   ]
  },
  {
   "cell_type": "code",
   "execution_count": null,
   "metadata": {},
   "outputs": [],
   "source": [
    "# change age1/age2 ans' en 'age2 ans'\n",
    "cursor.execute('''UPDATE T_complete \n",
    "                SET age = regexp_replace(age,'[0-9]/','')\n",
    "                WHERE age SIMILAR TO '%/%' \n",
    "          ;\n",
    "               ''')\n",
    "conn.commit()"
   ]
  },
  {
   "cell_type": "code",
   "execution_count": null,
   "metadata": {},
   "outputs": [],
   "source": [
    "# change ' 12 ans' en '12 ans'\n",
    "cursor.execute('''UPDATE T_complete \n",
    "                SET age = regexp_replace(age, ' 12 ans','12 ans')\n",
    "                WHERE age SIMILAR TO '% 12 ans%'\n",
    "          ;\n",
    "               ''')\n",
    "conn.commit()"
   ]
  },
  {
   "cell_type": "code",
   "execution_count": null,
   "metadata": {},
   "outputs": [],
   "source": [
    "# change ' 7ou8ou9 bi' en '8 ans'\n",
    "cursor.execute('''UPDATE T_complete \n",
    "                SET age = regexp_replace(age, '7ou8ou9 bi','8')\n",
    "                WHERE age SIMILAR TO '%7ou8ou9 bi%'\n",
    "          ;\n",
    "               ''')\n",
    "conn.commit()"
   ]
  },
  {
   "cell_type": "code",
   "execution_count": null,
   "metadata": {},
   "outputs": [],
   "source": [
    "# change nom_enfant' Charlie...euh Charlène' en 'Charlène'\n",
    "cursor.execute('''UPDATE T_complete \n",
    "                SET nom_enfant = 'Charlène'\n",
    "                WHERE nom_enfant = 'Charlie...euh Charlène'\n",
    "          ;\n",
    "               ''')\n",
    "conn.commit()"
   ]
  },
  {
   "cell_type": "code",
   "execution_count": null,
   "metadata": {},
   "outputs": [],
   "source": [
    "cursor.close()\n",
    "deconnexion_DB(conn)"
   ]
  }
 ],
 "metadata": {
  "kernelspec": {
   "display_name": "Python 3",
   "language": "python",
   "name": "python3"
  },
  "language_info": {
   "codemirror_mode": {
    "name": "ipython",
    "version": 3
   },
   "file_extension": ".py",
   "mimetype": "text/x-python",
   "name": "python",
   "nbconvert_exporter": "python",
   "pygments_lexer": "ipython3",
   "version": "3.6.8"
  }
 },
 "nbformat": 4,
 "nbformat_minor": 2
}
