{
 "cells": [
  {
   "cell_type": "code",
   "execution_count": null,
   "metadata": {},
   "outputs": [],
   "source": [
    "import psycopg2\n",
    "from zipfile import ZipFile\n",
    "import os"
   ]
  },
  {
   "cell_type": "code",
   "execution_count": null,
   "metadata": {},
   "outputs": [],
   "source": [
    "#1 creer un DB avec postgres\n",
    "\n",
    "#2 creer une table des lettres T_lettres\n",
    "\n"
   ]
  },
  {
   "cell_type": "code",
   "execution_count": null,
   "metadata": {},
   "outputs": [],
   "source": [
    "def chemin_fichier()-> str :\n",
    "    \"\"\"\n",
    "        Donne le nom du chemin complet du fichier actuel (.py) \n",
    "    \"\"\"\n",
    "    chemin=os.getcwd() #methode pour tourner avec jupyter\n",
    "    #chemin= path.dirname(path.abspath(__file__)) #methode d'Alice avec <os>\n",
    "    #chemin = str(Path(__file__).parent) #ma methode avec <path>\n",
    "    print(chemin)\n",
    "    return chemin\n",
    "\n",
    "chemin_f=chemin_fichier()"
   ]
  },
  {
   "cell_type": "code",
   "execution_count": null,
   "metadata": {},
   "outputs": [],
   "source": [
    "# etablir une connection\n",
    "def connexion_DB(fichierDB):\n",
    "    try:\n",
    "        conn = psycopg2.connect(user = \"santa\",\n",
    "                                password = \"claus\",\n",
    "                                host = \"localhost\",\n",
    "                                port = \"5432:5432\",\n",
    "                                database = fichierDB\n",
    "                                )\n",
    "\n",
    "        cur = conn.cursor()\n",
    "        # Print PostgreSQL Connection properties\n",
    "        print ( \"Proprietes : \",conn.get_dsn_parameters(),\"\\n\")\n",
    "\n",
    "        # Print PostgreSQL version\n",
    "        cur.execute(\"SELECT version();\")\n",
    "        record = cur.fetchone()\n",
    "        print(\"Version de PostgreSQL : \", record,\"\\n\")\n",
    "        cur.close()\n",
    "    except (Exception, psycopg2.Error) as error :\n",
    "        print (\"Error while connecting to PostgreSQL\", error)\n",
    "    \n",
    "    return conn\n",
    "                "
   ]
  },
  {
   "cell_type": "code",
   "execution_count": null,
   "metadata": {},
   "outputs": [],
   "source": [
    "def deconnexion_DB(conn):\n",
    "#closing database connection.\n",
    "    if(conn):\n",
    "        conn.close()\n",
    "        print(\"PostgreSQL connection is closed\")"
   ]
  },
  {
   "cell_type": "code",
   "execution_count": null,
   "metadata": {},
   "outputs": [],
   "source": [
    "def create_table(conn, create_table_psg : str,table_name):\n",
    "    \"\"\" create a table from the create_table_sql statement\n",
    "    :param conn: Connection object\n",
    "    :param create_table_sql: a CREATE TABLE statement\n",
    "    :return:\n",
    "    \"\"\"\n",
    "    try:\n",
    "        c = conn.cursor()\n",
    "        c.execute(create_table_psg)\n",
    "        print(f\"Table created successfully in PostgreSQL : {table_name}\")\n",
    "    except (Exception, psycopg2.DatabaseError) as error :\n",
    "        print(f\"Error while creating PostgreSQL table : {table_name}\", error)\n",
    "    finally:\n",
    "        #fermer le curseur\n",
    "        if(conn):\n",
    "            c.close()"
   ]
  },
  {
   "cell_type": "code",
   "execution_count": null,
   "metadata": {
    "scrolled": true
   },
   "outputs": [],
   "source": [
    "# MAIN\n",
    "# CONNECTION A LA BASE\n",
    "\n",
    "conn=connexion_DB(\"santa_data\")\n",
    "#print(conn)"
   ]
  },
  {
   "cell_type": "code",
   "execution_count": null,
   "metadata": {},
   "outputs": [],
   "source": [
    "#creation de tables\n",
    "if conn is not None:\n",
    "    #T_letters\n",
    "    nm_table='T_letters'\n",
    "    \n",
    "    c = conn.cursor()\n",
    "    c.execute(f\"DROP TABLE IF EXISTS {nm_table}\")\n",
    "    \n",
    "    create_table_query = f'''\n",
    "            CREATE TABLE IF NOT EXISTS {nm_table}\n",
    "            (ID_l SERIAL PRIMARY KEY NOT NULL,\n",
    "            Name_letter TEXT NOT NULL\n",
    "            ); \n",
    "            '''\n",
    "    create_table(conn,create_table_query,nm_table)\n",
    "    conn.commit()\n"
   ]
  },
  {
   "cell_type": "code",
   "execution_count": null,
   "metadata": {},
   "outputs": [],
   "source": [
    "if conn is not None:\n",
    "    \n",
    "    #T_enfants\n",
    "    nm_table='T_enfants'\n",
    "    \n",
    "    c = conn.cursor()\n",
    "    c.execute(f\"DROP TABLE IF EXISTS {nm_table}\")\n",
    "    \n",
    "    create_table_query = f'''\n",
    "            CREATE TABLE IF NOT EXISTS {nm_table}\n",
    "            (ID_e SERIAL PRIMARY KEY,\n",
    "            Name_enfant TEXT NOT NULL,\n",
    "            Age_enfant FLOAT,\n",
    "            Pays_enfant TEXT,\n",
    "            ID_p INT\n",
    "            ); \n",
    "            '''\n",
    "    create_table(conn,create_table_query,nm_table)\n",
    "    conn.commit()"
   ]
  },
  {
   "cell_type": "code",
   "execution_count": null,
   "metadata": {},
   "outputs": [],
   "source": [
    "#creation de tables\n",
    "if conn is not None:\n",
    "    \n",
    "    #T_contenu_lettres\n",
    "    nm_table='T_contenus'\n",
    "    \n",
    "    c = conn.cursor()\n",
    "    c.execute(f\"DROP TABLE IF EXISTS {nm_table}\")\n",
    "    \n",
    "    create_table_query = f'''\n",
    "            CREATE TABLE IF NOT EXISTS {nm_table}\n",
    "            (ID_c SERIAL PRIMARY KEY,\n",
    "            ID_l INT,\n",
    "            ID_enfant INT,\n",
    "            Contenu TEXT,\n",
    "            Numero TEXT\n",
    "            ); \n",
    "            '''\n",
    "    create_table(conn,create_table_query,nm_table)\n",
    "    conn.commit()\n",
    "    "
   ]
  },
  {
   "cell_type": "code",
   "execution_count": null,
   "metadata": {},
   "outputs": [],
   "source": [
    "if conn is not None:\n",
    "        \n",
    "    #T_pays\n",
    "    nm_table='T_pays'\n",
    "    \n",
    "    c = conn.cursor()\n",
    "    c.execute(f\"DROP TABLE IF EXISTS {nm_table}\")\n",
    "    \n",
    "    create_table_query = f'''\n",
    "            CREATE TABLE IF NOT EXISTS {nm_table}\n",
    "            (ID_p SERIAL PRIMARY KEY,\n",
    "            Pays TEXT\n",
    "            ); \n",
    "            '''\n",
    "    create_table(conn,create_table_query,nm_table)\n",
    "    conn.commit()\n",
    "    "
   ]
  },
  {
   "cell_type": "code",
   "execution_count": null,
   "metadata": {},
   "outputs": [],
   "source": [
    "if conn is not None:\n",
    "    \n",
    "    #T_complete\n",
    "    nm_table='T_complete'\n",
    "    \n",
    "    c = conn.cursor()\n",
    "    c.execute(f\"DROP TABLE IF EXISTS {nm_table}\")\n",
    "    \n",
    "    create_table_query = f'''\n",
    "            CREATE TABLE IF NOT EXISTS {nm_table}\n",
    "            (ID SERIAL PRIMARY KEY,\n",
    "            id_l INT,\n",
    "            nom_lettre TEXT,\n",
    "            nom_enfant TEXT,\n",
    "            age TEXT,\n",
    "            Pays TEXT,\n",
    "            Contenu TEXT,\n",
    "            Numero TEXT\n",
    "            ); \n",
    "            '''\n",
    "    create_table(conn,create_table_query,nm_table)\n",
    "    conn.commit()"
   ]
  },
  {
   "cell_type": "code",
   "execution_count": null,
   "metadata": {},
   "outputs": [],
   "source": [
    "deconnexion_DB(conn)"
   ]
  },
  {
   "cell_type": "code",
   "execution_count": null,
   "metadata": {
    "scrolled": false
   },
   "outputs": [],
   "source": [
    "#insertion de données\n",
    "conn=connexion_DB(\"santa_data\")\n",
    "try:\n",
    "    conn=connexion_DB(\"santa_data\")\n",
    "    cursor = conn.cursor()\n",
    "\n",
    "    path_dossier_letters=chemin_fichier() +'/lettres_pere_noel'\n",
    "    #print(path_dossier_letters)\n",
    "#'/home/tatindom/Santa-Data/santa-Groupe-DZJC/Partie_1/lettres_pere_noel')\n",
    "    \n",
    "    #recuperation du nom des fichiers <lettre---.pnoel>\n",
    "    list_letters=os.listdir(path_dossier_letters)\n",
    "    list_letters.sort()\n",
    "       \n",
    "    count=0\n",
    "    \n",
    "    for f_name in list_letters :\n",
    "        #print(f_name)\n",
    "        insert_data_query = f\"\"\" \n",
    "                        INSERT INTO T_letters\n",
    "                        (ID_l,Name_letter) \n",
    "                        VALUES (default,'{f_name}')\n",
    "                        \"\"\"\n",
    "        cursor.execute(insert_data_query)\n",
    "        #nb_l+=1\n",
    "        conn.commit()\n",
    "        count += cursor.rowcount\n",
    "    print (count, \"Record inserted successfully into mobile table\")\n",
    "    \n",
    "    cursor.execute(\"SELECT * FROM T_letters\")\n",
    "    #resultats=cur.execute(select_SQL)\n",
    "    res=cursor.fetchall()\n",
    "    print(res)\n",
    "    \n",
    "except (Exception, psycopg2.Error) as error :\n",
    "    if(conn):\n",
    "        print(\"Failed to insert record into table T_letters\", error)\n",
    "\n",
    "finally:\n",
    "    #closing database connection.\n",
    "    if(conn):\n",
    "        cursor.close()\n",
    "        deconnexion_DB(conn)"
   ]
  },
  {
   "cell_type": "code",
   "execution_count": null,
   "metadata": {},
   "outputs": [],
   "source": []
  },
  {
   "cell_type": "markdown",
   "metadata": {
    "scrolled": false
   },
   "source": [
    "     \n",
    "#pour dezipper un dossier  \n",
    "    # spécifiant le nom du fichier zip\n",
    "file = \"lettres_pere_noel.zip\"\n",
    "\n",
    "#ouvrir le fichier zip en mode lecture\n",
    "with ZipFile(file, 'r') as zip: \n",
    "    # afficher tout le contenu du fichier zip\n",
    "zip.printdir() \n",
    "    \n",
    "#extraire tous les fichiers\n",
    "print('extraction...') \n",
    "zip.extractall() \n",
    "print('Terminé!')\n",
    "        "
   ]
  },
  {
   "cell_type": "markdown",
   "metadata": {
    "scrolled": true
   },
   "source": [
    "#recuperer la liste des fichiers d'un dossier\n",
    "list_lettres=os.listdir('/home/tatindom/Santa-Data/santa-Groupe-DZJC/Partie_1/lettres_pere_noel')\n",
    "print(list_lettres)"
   ]
  },
  {
   "cell_type": "code",
   "execution_count": null,
   "metadata": {},
   "outputs": [],
   "source": []
  }
 ],
 "metadata": {
  "kernelspec": {
   "display_name": "Python 3",
   "language": "python",
   "name": "python3"
  },
  "language_info": {
   "codemirror_mode": {
    "name": "ipython",
    "version": 3
   },
   "file_extension": ".py",
   "mimetype": "text/x-python",
   "name": "python",
   "nbconvert_exporter": "python",
   "pygments_lexer": "ipython3",
   "version": "3.6.8"
  }
 },
 "nbformat": 4,
 "nbformat_minor": 2
}
