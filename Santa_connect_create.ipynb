{
 "cells": [
  {
   "cell_type": "code",
   "execution_count": 1,
   "metadata": {},
   "outputs": [],
   "source": [
    "import psycopg2\n",
    "from zipfile import ZipFile\n",
    "import os"
   ]
  },
  {
   "cell_type": "code",
   "execution_count": 2,
   "metadata": {},
   "outputs": [],
   "source": [
    "#1 creer un DB avec postgres\n",
    "\n",
    "#2 creer une table des lettres T_lettres\n",
    "\n"
   ]
  },
  {
   "cell_type": "code",
   "execution_count": 3,
   "metadata": {},
   "outputs": [
    {
     "name": "stdout",
     "output_type": "stream",
     "text": [
      "/home/tatindom/Santa-Data/santa-Groupe-DZJC/Dossier_de_travail\n"
     ]
    }
   ],
   "source": [
    "def chemin_fichier()-> str :\n",
    "    \"\"\"\n",
    "        Donne le nom du chemin complet du fichier actuel (.py) \n",
    "    \"\"\"\n",
    "    chemin=os.getcwd() #methode pour tourner avec jupyter\n",
    "    #chemin= path.dirname(path.abspath(__file__)) #methode d'Alice avec <os>\n",
    "    #chemin = str(Path(__file__).parent) #ma methode avec <path>\n",
    "    print(chemin)\n",
    "    return chemin\n",
    "\n",
    "chemin_f=chemin_fichier()"
   ]
  },
  {
   "cell_type": "code",
   "execution_count": 5,
   "metadata": {},
   "outputs": [],
   "source": [
    "# etablir une connection\n",
    "def connexion_DB(fichierDB):\n",
    "    try:\n",
    "        conn = psycopg2.connect(user = \"santa\",\n",
    "                                password = \"claus\",\n",
    "                                host = \"localhost\",\n",
    "                                port = \"5432:5432\",\n",
    "                                database = fichierDB\n",
    "                                )\n",
    "\n",
    "        cur = conn.cursor()\n",
    "        # Print PostgreSQL Connection properties\n",
    "        print ( \"Proprietes : \",conn.get_dsn_parameters(),\"\\n\")\n",
    "\n",
    "        # Print PostgreSQL version\n",
    "        cur.execute(\"SELECT version();\")\n",
    "        record = cur.fetchone()\n",
    "        print(\"Version de PostgreSQL : \", record,\"\\n\")\n",
    "        cur.close()\n",
    "    except (Exception, psycopg2.Error) as error :\n",
    "        print (\"Error while connecting to PostgreSQL\", error)\n",
    "    \n",
    "    return conn\n",
    "                "
   ]
  },
  {
   "cell_type": "code",
   "execution_count": 6,
   "metadata": {},
   "outputs": [],
   "source": [
    "def deconnexion_DB(conn):\n",
    "#closing database connection.\n",
    "    if(conn):\n",
    "        conn.close()\n",
    "        print(\"PostgreSQL connection is closed\")"
   ]
  },
  {
   "cell_type": "code",
   "execution_count": 7,
   "metadata": {},
   "outputs": [],
   "source": [
    "def create_table(conn, create_table_psg : str,table_name):\n",
    "    \"\"\" create a table from the create_table_sql statement\n",
    "    :param conn: Connection object\n",
    "    :param create_table_sql: a CREATE TABLE statement\n",
    "    :return:\n",
    "    \"\"\"\n",
    "    try:\n",
    "        c = conn.cursor()\n",
    "        c.execute(create_table_psg)\n",
    "        print(f\"Table created successfully in PostgreSQL : {table_name}\")\n",
    "    except (Exception, psycopg2.DatabaseError) as error :\n",
    "        print(f\"Error while creating PostgreSQL table : {table_name}\", error)\n",
    "    finally:\n",
    "        #fermer le curseur\n",
    "        if(conn):\n",
    "            c.close()"
   ]
  },
  {
   "cell_type": "code",
   "execution_count": 8,
   "metadata": {
    "scrolled": true
   },
   "outputs": [
    {
     "name": "stdout",
     "output_type": "stream",
     "text": [
      "Proprietes :  {'user': 'santa', 'dbname': 'santa_data', 'host': 'localhost', 'port': '5432:5432', 'tty': '', 'options': '', 'sslmode': 'prefer', 'sslcompression': '0', 'krbsrvname': 'postgres', 'target_session_attrs': 'any'} \n",
      "\n",
      "Version de PostgreSQL :  ('PostgreSQL 12.1 (Debian 12.1-1.pgdg100+1) on x86_64-pc-linux-gnu, compiled by gcc (Debian 8.3.0-6) 8.3.0, 64-bit',) \n",
      "\n"
     ]
    }
   ],
   "source": [
    "# MAIN\n",
    "# CONNECTION A LA BASE\n",
    "\n",
    "conn=connexion_DB(\"santa_data\")\n",
    "#print(conn)"
   ]
  },
  {
   "cell_type": "code",
   "execution_count": 9,
   "metadata": {},
   "outputs": [
    {
     "name": "stdout",
     "output_type": "stream",
     "text": [
      "Table created successfully in PostgreSQL : T_letters\n",
      "Table created successfully in PostgreSQL : T_enfants\n",
      "Table created successfully in PostgreSQL : T_contenus\n",
      "Table created successfully in PostgreSQL : T_pays\n",
      "Table created successfully in PostgreSQL : T_complete\n"
     ]
    }
   ],
   "source": [
    "#creation de tables\n",
    "if conn is not None:\n",
    "    #T_letters\n",
    "    nm_table='T_letters'\n",
    "    \n",
    "    c = conn.cursor()\n",
    "    c.execute(f\"DROP TABLE IF EXISTS {nm_table}\")\n",
    "    \n",
    "    create_table_query = f'''\n",
    "            CREATE TABLE IF NOT EXISTS {nm_table}\n",
    "            (ID_l SERIAL PRIMARY KEY NOT NULL,\n",
    "            Name_letter TEXT NOT NULL\n",
    "            ); \n",
    "            '''\n",
    "    create_table(conn,create_table_query,nm_table)\n",
    "    conn.commit()\n",
    "\n",
    "    #T_enfants\n",
    "    nm_table='T_enfants'\n",
    "    \n",
    "    c = conn.cursor()\n",
    "    c.execute(f\"DROP TABLE IF EXISTS {nm_table}\")\n",
    "    \n",
    "    create_table_query = f'''\n",
    "            CREATE TABLE IF NOT EXISTS {nm_table}\n",
    "            (ID_e SERIAL PRIMARY KEY,\n",
    "            Name_enfant TEXT NOT NULL,\n",
    "            Age_enfant FLOAT,\n",
    "            Pays_enfant TEXT,\n",
    "            ID_p INT\n",
    "            ); \n",
    "            '''\n",
    "    create_table(conn,create_table_query,nm_table)\n",
    "    conn.commit()\n",
    "    \n",
    "    #T_contenu_lettres\n",
    "    nm_table='T_contenus'\n",
    "    \n",
    "    c = conn.cursor()\n",
    "    c.execute(f\"DROP TABLE IF EXISTS {nm_table}\")\n",
    "    \n",
    "    create_table_query = f'''\n",
    "            CREATE TABLE IF NOT EXISTS {nm_table}\n",
    "            (ID_c SERIAL PRIMARY KEY,\n",
    "            ID_l INT,\n",
    "            ID_enfant INT,\n",
    "            Contenu TEXT,\n",
    "            Numero INT\n",
    "            ); \n",
    "            '''\n",
    "    create_table(conn,create_table_query,nm_table)\n",
    "    conn.commit()\n",
    "    \n",
    "    #T_pays\n",
    "    nm_table='T_pays'\n",
    "    \n",
    "    c = conn.cursor()\n",
    "    c.execute(f\"DROP TABLE IF EXISTS {nm_table}\")\n",
    "    \n",
    "    create_table_query = f'''\n",
    "            CREATE TABLE IF NOT EXISTS {nm_table}\n",
    "            (ID_p SERIAL PRIMARY KEY,\n",
    "            Pays TEXT\n",
    "            ); \n",
    "            '''\n",
    "    create_table(conn,create_table_query,nm_table)\n",
    "    conn.commit()\n",
    "    \n",
    "    #T_complete\n",
    "    nm_table='T_complete'\n",
    "    \n",
    "    c = conn.cursor()\n",
    "    c.execute(f\"DROP TABLE IF EXISTS {nm_table}\")\n",
    "    \n",
    "    create_table_query = f'''\n",
    "            CREATE TABLE IF NOT EXISTS {nm_table}\n",
    "            (ID SERIAL PRIMARY KEY,\n",
    "            id_l INT,\n",
    "            nom_lettre TEXT,\n",
    "            nom_enfant TEXT,\n",
    "            age TEXT,\n",
    "            Pays TEXT,\n",
    "            Contenu TEXT,\n",
    "            Numero INT\n",
    "            ); \n",
    "            '''\n",
    "    create_table(conn,create_table_query,nm_table)\n",
    "    conn.commit()\n"
   ]
  },
  {
   "cell_type": "code",
   "execution_count": 10,
   "metadata": {},
   "outputs": [
    {
     "name": "stdout",
     "output_type": "stream",
     "text": [
      "PostgreSQL connection is closed\n"
     ]
    }
   ],
   "source": [
    "deconnexion_DB(conn)"
   ]
  },
  {
   "cell_type": "code",
   "execution_count": 11,
   "metadata": {
    "scrolled": true
   },
   "outputs": [
    {
     "name": "stdout",
     "output_type": "stream",
     "text": [
      "Proprietes :  {'user': 'santa', 'dbname': 'santa_data', 'host': 'localhost', 'port': '5432:5432', 'tty': '', 'options': '', 'sslmode': 'prefer', 'sslcompression': '0', 'krbsrvname': 'postgres', 'target_session_attrs': 'any'} \n",
      "\n",
      "Version de PostgreSQL :  ('PostgreSQL 12.1 (Debian 12.1-1.pgdg100+1) on x86_64-pc-linux-gnu, compiled by gcc (Debian 8.3.0-6) 8.3.0, 64-bit',) \n",
      "\n",
      "Proprietes :  {'user': 'santa', 'dbname': 'santa_data', 'host': 'localhost', 'port': '5432:5432', 'tty': '', 'options': '', 'sslmode': 'prefer', 'sslcompression': '0', 'krbsrvname': 'postgres', 'target_session_attrs': 'any'} \n",
      "\n",
      "Version de PostgreSQL :  ('PostgreSQL 12.1 (Debian 12.1-1.pgdg100+1) on x86_64-pc-linux-gnu, compiled by gcc (Debian 8.3.0-6) 8.3.0, 64-bit',) \n",
      "\n",
      "/home/tatindom/Santa-Data/santa-Groupe-DZJC/Dossier_de_travail\n",
      "1640 Record inserted successfully into mobile table\n",
      "[(1, 'lettre_1.pnoel'), (2, 'lettre_10.pnoel'), (3, 'lettre_100.pnoel'), (4, 'lettre_1000.pnoel'), (5, 'lettre_1001.pnoel'), (6, 'lettre_1002.pnoel'), (7, 'lettre_1003.pnoel'), (8, 'lettre_1004.pnoel'), (9, 'lettre_1005.pnoel'), (10, 'lettre_1006.pnoel'), (11, 'lettre_1007.pnoel'), (12, 'lettre_1008.pnoel'), (13, 'lettre_1009.pnoel'), (14, 'lettre_101.pnoel'), (15, 'lettre_1010.pnoel'), (16, 'lettre_1011.pnoel'), (17, 'lettre_1012.pnoel'), (18, 'lettre_1013.pnoel'), (19, 'lettre_1014.pnoel'), (20, 'lettre_1015.pnoel'), (21, 'lettre_1016.pnoel'), (22, 'lettre_1017.pnoel'), (23, 'lettre_1018.pnoel'), (24, 'lettre_1019.pnoel'), (25, 'lettre_102.pnoel'), (26, 'lettre_1020.pnoel'), (27, 'lettre_1021.pnoel'), (28, 'lettre_1022.pnoel'), (29, 'lettre_1023.pnoel'), (30, 'lettre_1024.pnoel'), (31, 'lettre_1025.pnoel'), (32, 'lettre_1026.pnoel'), (33, 'lettre_1027.pnoel'), (34, 'lettre_1028.pnoel'), (35, 'lettre_1029.pnoel'), (36, 'lettre_103.pnoel'), (37, 'lettre_1030.pnoel'), (38, 'lettre_1031.pnoel'), (39, 'lettre_1032.pnoel'), (40, 'lettre_1033.pnoel'), (41, 'lettre_1034.pnoel'), (42, 'lettre_1035.pnoel'), (43, 'lettre_1036.pnoel'), (44, 'lettre_1037.pnoel'), (45, 'lettre_1038.pnoel'), (46, 'lettre_1039.pnoel'), (47, 'lettre_104.pnoel'), (48, 'lettre_1040.pnoel'), (49, 'lettre_1041.pnoel'), (50, 'lettre_1042.pnoel'), (51, 'lettre_1043.pnoel'), (52, 'lettre_1044.pnoel'), (53, 'lettre_1045.pnoel'), (54, 'lettre_1046.pnoel'), (55, 'lettre_1047.pnoel'), (56, 'lettre_1048.pnoel'), (57, 'lettre_1049.pnoel'), (58, 'lettre_105.pnoel'), (59, 'lettre_1050.pnoel'), (60, 'lettre_1051.pnoel'), (61, 'lettre_1052.pnoel'), (62, 'lettre_1053.pnoel'), (63, 'lettre_1054.pnoel'), (64, 'lettre_1055.pnoel'), (65, 'lettre_1056.pnoel'), (66, 'lettre_1057.pnoel'), (67, 'lettre_1058.pnoel'), (68, 'lettre_1059.pnoel'), (69, 'lettre_106.pnoel'), (70, 'lettre_1060.pnoel'), (71, 'lettre_1061.pnoel'), (72, 'lettre_1062.pnoel'), (73, 'lettre_1063.pnoel'), (74, 'lettre_1064.pnoel'), (75, 'lettre_1065.pnoel'), (76, 'lettre_1066.pnoel'), (77, 'lettre_1067.pnoel'), (78, 'lettre_1068.pnoel'), (79, 'lettre_1069.pnoel'), (80, 'lettre_107.pnoel'), (81, 'lettre_1070.pnoel'), (82, 'lettre_1071.pnoel'), (83, 'lettre_1072.pnoel'), (84, 'lettre_1073.pnoel'), (85, 'lettre_1074.pnoel'), (86, 'lettre_1075.pnoel'), (87, 'lettre_1076.pnoel'), (88, 'lettre_1077.pnoel'), (89, 'lettre_1078.pnoel'), (90, 'lettre_1079.pnoel'), (91, 'lettre_108.pnoel'), (92, 'lettre_1080.pnoel'), (93, 'lettre_1081.pnoel'), (94, 'lettre_1082.pnoel'), (95, 'lettre_1083.pnoel'), (96, 'lettre_1084.pnoel'), (97, 'lettre_1085.pnoel'), (98, 'lettre_1086.pnoel'), (99, 'lettre_1087.pnoel'), (100, 'lettre_1088.pnoel'), (101, 'lettre_1089.pnoel'), (102, 'lettre_109.pnoel'), (103, 'lettre_1090.pnoel'), (104, 'lettre_1091.pnoel'), (105, 'lettre_1092.pnoel'), (106, 'lettre_1093.pnoel'), (107, 'lettre_1094.pnoel'), (108, 'lettre_1095.pnoel'), (109, 'lettre_1096.pnoel'), (110, 'lettre_1097.pnoel'), (111, 'lettre_1098.pnoel'), (112, 'lettre_1099.pnoel'), (113, 'lettre_11.pnoel'), (114, 'lettre_110.pnoel'), (115, 'lettre_1100.pnoel'), (116, 'lettre_1101.pnoel'), (117, 'lettre_1102.pnoel'), (118, 'lettre_1103.pnoel'), (119, 'lettre_1104.pnoel'), (120, 'lettre_1105.pnoel'), (121, 'lettre_1106.pnoel'), (122, 'lettre_1107.pnoel'), (123, 'lettre_1108.pnoel'), (124, 'lettre_1109.pnoel'), (125, 'lettre_111.pnoel'), (126, 'lettre_1110.pnoel'), (127, 'lettre_1111.pnoel'), (128, 'lettre_1112.pnoel'), (129, 'lettre_1113.pnoel'), (130, 'lettre_1114.pnoel'), (131, 'lettre_1115.pnoel'), (132, 'lettre_1116.pnoel'), (133, 'lettre_1117.pnoel'), (134, 'lettre_1118.pnoel'), (135, 'lettre_1119.pnoel'), (136, 'lettre_112.pnoel'), (137, 'lettre_1120.pnoel'), (138, 'lettre_1121.pnoel'), (139, 'lettre_1122.pnoel'), (140, 'lettre_1123.pnoel'), (141, 'lettre_1124.pnoel'), (142, 'lettre_1125.pnoel'), (143, 'lettre_1126.pnoel'), (144, 'lettre_1127.pnoel'), (145, 'lettre_1128.pnoel'), (146, 'lettre_1129.pnoel'), (147, 'lettre_113.pnoel'), (148, 'lettre_1130.pnoel'), (149, 'lettre_1131.pnoel'), (150, 'lettre_1132.pnoel'), (151, 'lettre_1133.pnoel'), (152, 'lettre_1134.pnoel'), (153, 'lettre_1135.pnoel'), (154, 'lettre_1136.pnoel'), (155, 'lettre_1137.pnoel'), (156, 'lettre_1138.pnoel'), (157, 'lettre_1139.pnoel'), (158, 'lettre_114.pnoel'), (159, 'lettre_1140.pnoel'), (160, 'lettre_1141.pnoel'), (161, 'lettre_1142.pnoel'), (162, 'lettre_1143.pnoel'), (163, 'lettre_1144.pnoel'), (164, 'lettre_1145.pnoel'), (165, 'lettre_1146.pnoel'), (166, 'lettre_1147.pnoel'), (167, 'lettre_1148.pnoel'), (168, 'lettre_1149.pnoel'), (169, 'lettre_115.pnoel'), (170, 'lettre_1150.pnoel'), (171, 'lettre_1151.pnoel'), (172, 'lettre_1152.pnoel'), (173, 'lettre_1153.pnoel'), (174, 'lettre_1154.pnoel'), (175, 'lettre_1155.pnoel'), (176, 'lettre_1156.pnoel'), (177, 'lettre_1157.pnoel'), (178, 'lettre_1158.pnoel'), (179, 'lettre_1159.pnoel'), (180, 'lettre_116.pnoel'), (181, 'lettre_1160.pnoel'), (182, 'lettre_1161.pnoel'), (183, 'lettre_1162.pnoel'), (184, 'lettre_1163.pnoel'), (185, 'lettre_1164.pnoel'), (186, 'lettre_1165.pnoel'), (187, 'lettre_1166.pnoel'), (188, 'lettre_1167.pnoel'), (189, 'lettre_1168.pnoel'), (190, 'lettre_1169.pnoel'), (191, 'lettre_117.pnoel'), (192, 'lettre_1170.pnoel'), (193, 'lettre_1171.pnoel'), (194, 'lettre_1172.pnoel'), (195, 'lettre_1173.pnoel'), (196, 'lettre_1174.pnoel'), (197, 'lettre_1175.pnoel'), (198, 'lettre_1176.pnoel'), (199, 'lettre_1177.pnoel'), (200, 'lettre_1178.pnoel'), (201, 'lettre_1179.pnoel'), (202, 'lettre_118.pnoel'), (203, 'lettre_1180.pnoel'), (204, 'lettre_1181.pnoel'), (205, 'lettre_1182.pnoel'), (206, 'lettre_1183.pnoel'), (207, 'lettre_1184.pnoel'), (208, 'lettre_1185.pnoel'), (209, 'lettre_1186.pnoel'), (210, 'lettre_1187.pnoel'), (211, 'lettre_1188.pnoel'), (212, 'lettre_1189.pnoel'), (213, 'lettre_119.pnoel'), (214, 'lettre_1190.pnoel'), (215, 'lettre_1191.pnoel'), (216, 'lettre_1192.pnoel'), (217, 'lettre_1193.pnoel'), (218, 'lettre_1194.pnoel'), (219, 'lettre_1195.pnoel'), (220, 'lettre_1196.pnoel'), (221, 'lettre_1197.pnoel'), (222, 'lettre_1198.pnoel'), (223, 'lettre_1199.pnoel'), (224, 'lettre_12.pnoel'), (225, 'lettre_120.pnoel'), (226, 'lettre_1200.pnoel'), (227, 'lettre_1201.pnoel'), (228, 'lettre_1202.pnoel'), (229, 'lettre_1203.pnoel'), (230, 'lettre_1204.pnoel'), (231, 'lettre_1205.pnoel'), (232, 'lettre_1206.pnoel'), (233, 'lettre_1207.pnoel'), (234, 'lettre_1208.pnoel'), (235, 'lettre_1209.pnoel'), (236, 'lettre_121.pnoel'), (237, 'lettre_1210.pnoel'), (238, 'lettre_1211.pnoel'), (239, 'lettre_1212.pnoel'), (240, 'lettre_1213.pnoel'), (241, 'lettre_1214.pnoel'), (242, 'lettre_1215.pnoel'), (243, 'lettre_1216.pnoel'), (244, 'lettre_1217.pnoel'), (245, 'lettre_1218.pnoel'), (246, 'lettre_1219.pnoel'), (247, 'lettre_122.pnoel'), (248, 'lettre_1220.pnoel'), (249, 'lettre_1221.pnoel'), (250, 'lettre_1222.pnoel'), (251, 'lettre_1223.pnoel'), (252, 'lettre_1224.pnoel'), (253, 'lettre_1225.pnoel'), (254, 'lettre_1226.pnoel'), (255, 'lettre_1227.pnoel'), (256, 'lettre_1228.pnoel'), (257, 'lettre_1229.pnoel'), (258, 'lettre_123.pnoel'), (259, 'lettre_1230.pnoel'), (260, 'lettre_1231.pnoel'), (261, 'lettre_1232.pnoel'), (262, 'lettre_1233.pnoel'), (263, 'lettre_1234.pnoel'), (264, 'lettre_1235.pnoel'), (265, 'lettre_1236.pnoel'), (266, 'lettre_1237.pnoel'), (267, 'lettre_1238.pnoel'), (268, 'lettre_1239.pnoel'), (269, 'lettre_124.pnoel'), (270, 'lettre_1240.pnoel'), (271, 'lettre_1241.pnoel'), (272, 'lettre_1242.pnoel'), (273, 'lettre_1243.pnoel'), (274, 'lettre_1244.pnoel'), (275, 'lettre_1245.pnoel'), (276, 'lettre_1246.pnoel'), (277, 'lettre_1247.pnoel'), (278, 'lettre_1248.pnoel'), (279, 'lettre_1249.pnoel'), (280, 'lettre_125.pnoel'), (281, 'lettre_1250.pnoel'), (282, 'lettre_1251.pnoel'), (283, 'lettre_1252.pnoel'), (284, 'lettre_1253.pnoel'), (285, 'lettre_1254.pnoel'), (286, 'lettre_1255.pnoel'), (287, 'lettre_1256.pnoel'), (288, 'lettre_1257.pnoel'), (289, 'lettre_1258.pnoel'), (290, 'lettre_1259.pnoel'), (291, 'lettre_126.pnoel'), (292, 'lettre_1260.pnoel'), (293, 'lettre_1261.pnoel'), (294, 'lettre_1262.pnoel'), (295, 'lettre_1263.pnoel'), (296, 'lettre_1264.pnoel'), (297, 'lettre_1265.pnoel'), (298, 'lettre_1266.pnoel'), (299, 'lettre_1267.pnoel'), (300, 'lettre_1268.pnoel'), (301, 'lettre_1269.pnoel'), (302, 'lettre_127.pnoel'), (303, 'lettre_1270.pnoel'), (304, 'lettre_1271.pnoel'), (305, 'lettre_1272.pnoel'), (306, 'lettre_1273.pnoel'), (307, 'lettre_1274.pnoel'), (308, 'lettre_1275.pnoel'), (309, 'lettre_1276.pnoel'), (310, 'lettre_1277.pnoel'), (311, 'lettre_1278.pnoel'), (312, 'lettre_1279.pnoel'), (313, 'lettre_128.pnoel'), (314, 'lettre_1280.pnoel'), (315, 'lettre_1281.pnoel'), (316, 'lettre_1282.pnoel'), (317, 'lettre_1283.pnoel'), (318, 'lettre_1284.pnoel'), (319, 'lettre_1285.pnoel'), (320, 'lettre_1286.pnoel'), (321, 'lettre_1287.pnoel'), (322, 'lettre_1288.pnoel'), (323, 'lettre_1289.pnoel'), (324, 'lettre_129.pnoel'), (325, 'lettre_1290.pnoel'), (326, 'lettre_1291.pnoel'), (327, 'lettre_1292.pnoel'), (328, 'lettre_1293.pnoel'), (329, 'lettre_1294.pnoel'), (330, 'lettre_1295.pnoel'), (331, 'lettre_1296.pnoel'), (332, 'lettre_1297.pnoel'), (333, 'lettre_1298.pnoel'), (334, 'lettre_1299.pnoel'), (335, 'lettre_13.pnoel'), (336, 'lettre_130.pnoel'), (337, 'lettre_1300.pnoel'), (338, 'lettre_1301.pnoel'), (339, 'lettre_1302.pnoel'), (340, 'lettre_1303.pnoel'), (341, 'lettre_1304.pnoel'), (342, 'lettre_1305.pnoel'), (343, 'lettre_1306.pnoel'), (344, 'lettre_1307.pnoel'), (345, 'lettre_1308.pnoel'), (346, 'lettre_1309.pnoel'), (347, 'lettre_131.pnoel'), (348, 'lettre_1310.pnoel'), (349, 'lettre_1311.pnoel'), (350, 'lettre_1312.pnoel'), (351, 'lettre_1313.pnoel'), (352, 'lettre_1314.pnoel'), (353, 'lettre_1315.pnoel'), (354, 'lettre_1316.pnoel'), (355, 'lettre_1317.pnoel'), (356, 'lettre_1318.pnoel'), (357, 'lettre_1319.pnoel'), (358, 'lettre_132.pnoel'), (359, 'lettre_1320.pnoel'), (360, 'lettre_1321.pnoel'), (361, 'lettre_1322.pnoel'), (362, 'lettre_1323.pnoel'), (363, 'lettre_1324.pnoel'), (364, 'lettre_1325.pnoel'), (365, 'lettre_1326.pnoel'), (366, 'lettre_1327.pnoel'), (367, 'lettre_1328.pnoel'), (368, 'lettre_1329.pnoel'), (369, 'lettre_133.pnoel'), (370, 'lettre_1330.pnoel'), (371, 'lettre_1331.pnoel'), (372, 'lettre_1332.pnoel'), (373, 'lettre_1333.pnoel'), (374, 'lettre_1334.pnoel'), (375, 'lettre_1335.pnoel'), (376, 'lettre_1336.pnoel'), (377, 'lettre_1337.pnoel'), (378, 'lettre_1338.pnoel'), (379, 'lettre_1339.pnoel'), (380, 'lettre_134.pnoel'), (381, 'lettre_1340.pnoel'), (382, 'lettre_1341.pnoel'), (383, 'lettre_1342.pnoel'), (384, 'lettre_1343.pnoel'), (385, 'lettre_1344.pnoel'), (386, 'lettre_1345.pnoel'), (387, 'lettre_1346.pnoel'), (388, 'lettre_1347.pnoel'), (389, 'lettre_1348.pnoel'), (390, 'lettre_1349.pnoel'), (391, 'lettre_135.pnoel'), (392, 'lettre_1350.pnoel'), (393, 'lettre_1351.pnoel'), (394, 'lettre_1352.pnoel'), (395, 'lettre_1353.pnoel'), (396, 'lettre_1354.pnoel'), (397, 'lettre_1355.pnoel'), (398, 'lettre_1356.pnoel'), (399, 'lettre_1357.pnoel'), (400, 'lettre_1358.pnoel'), (401, 'lettre_1359.pnoel'), (402, 'lettre_136.pnoel'), (403, 'lettre_1360.pnoel'), (404, 'lettre_1361.pnoel'), (405, 'lettre_1362.pnoel'), (406, 'lettre_1363.pnoel'), (407, 'lettre_1364.pnoel'), (408, 'lettre_1365.pnoel'), (409, 'lettre_1366.pnoel'), (410, 'lettre_1367.pnoel'), (411, 'lettre_1368.pnoel'), (412, 'lettre_1369.pnoel'), (413, 'lettre_137.pnoel'), (414, 'lettre_1370.pnoel'), (415, 'lettre_1371.pnoel'), (416, 'lettre_1372.pnoel'), (417, 'lettre_1373.pnoel'), (418, 'lettre_1374.pnoel'), (419, 'lettre_1375.pnoel'), (420, 'lettre_1376.pnoel'), (421, 'lettre_1377.pnoel'), (422, 'lettre_1378.pnoel'), (423, 'lettre_1379.pnoel'), (424, 'lettre_138.pnoel'), (425, 'lettre_1380.pnoel'), (426, 'lettre_1381.pnoel'), (427, 'lettre_1382.pnoel'), (428, 'lettre_1383.pnoel'), (429, 'lettre_1384.pnoel'), (430, 'lettre_1385.pnoel'), (431, 'lettre_1386.pnoel'), (432, 'lettre_1387.pnoel'), (433, 'lettre_1388.pnoel'), (434, 'lettre_1389.pnoel'), (435, 'lettre_139.pnoel'), (436, 'lettre_1390.pnoel'), (437, 'lettre_1391.pnoel'), (438, 'lettre_1392.pnoel'), (439, 'lettre_1393.pnoel'), (440, 'lettre_1394.pnoel'), (441, 'lettre_1395.pnoel'), (442, 'lettre_1396.pnoel'), (443, 'lettre_1397.pnoel'), (444, 'lettre_1398.pnoel'), (445, 'lettre_1399.pnoel'), (446, 'lettre_14.pnoel'), (447, 'lettre_140.pnoel'), (448, 'lettre_1400.pnoel'), (449, 'lettre_1401.pnoel'), (450, 'lettre_1402.pnoel'), (451, 'lettre_1403.pnoel'), (452, 'lettre_1404.pnoel'), (453, 'lettre_1405.pnoel'), (454, 'lettre_1406.pnoel'), (455, 'lettre_1407.pnoel'), (456, 'lettre_1408.pnoel'), (457, 'lettre_1409.pnoel'), (458, 'lettre_141.pnoel'), (459, 'lettre_1410.pnoel'), (460, 'lettre_1411.pnoel'), (461, 'lettre_1412.pnoel'), (462, 'lettre_1413.pnoel'), (463, 'lettre_1414.pnoel'), (464, 'lettre_1415.pnoel'), (465, 'lettre_1416.pnoel'), (466, 'lettre_1417.pnoel'), (467, 'lettre_1418.pnoel'), (468, 'lettre_1419.pnoel'), (469, 'lettre_142.pnoel'), (470, 'lettre_1420.pnoel'), (471, 'lettre_1421.pnoel'), (472, 'lettre_1422.pnoel'), (473, 'lettre_1423.pnoel'), (474, 'lettre_1424.pnoel'), (475, 'lettre_1425.pnoel'), (476, 'lettre_1426.pnoel'), (477, 'lettre_1427.pnoel'), (478, 'lettre_1428.pnoel'), (479, 'lettre_1429.pnoel'), (480, 'lettre_143.pnoel'), (481, 'lettre_1430.pnoel'), (482, 'lettre_1431.pnoel'), (483, 'lettre_1432.pnoel'), (484, 'lettre_1433.pnoel'), (485, 'lettre_1434.pnoel'), (486, 'lettre_1435.pnoel'), (487, 'lettre_1436.pnoel'), (488, 'lettre_1437.pnoel'), (489, 'lettre_1438.pnoel'), (490, 'lettre_1439.pnoel'), (491, 'lettre_144.pnoel'), (492, 'lettre_1440.pnoel'), (493, 'lettre_1441.pnoel'), (494, 'lettre_1442.pnoel'), (495, 'lettre_1443.pnoel'), (496, 'lettre_1444.pnoel'), (497, 'lettre_1445.pnoel'), (498, 'lettre_1446.pnoel'), (499, 'lettre_1447.pnoel'), (500, 'lettre_1448.pnoel'), (501, 'lettre_1449.pnoel'), (502, 'lettre_145.pnoel'), (503, 'lettre_1450.pnoel'), (504, 'lettre_1451.pnoel'), (505, 'lettre_1452.pnoel'), (506, 'lettre_1453.pnoel'), (507, 'lettre_1454.pnoel'), (508, 'lettre_1455.pnoel'), (509, 'lettre_1456.pnoel'), (510, 'lettre_1457.pnoel'), (511, 'lettre_1458.pnoel'), (512, 'lettre_1459.pnoel'), (513, 'lettre_146.pnoel'), (514, 'lettre_1460.pnoel'), (515, 'lettre_1461.pnoel'), (516, 'lettre_1462.pnoel'), (517, 'lettre_1463.pnoel'), (518, 'lettre_1464.pnoel'), (519, 'lettre_1465.pnoel'), (520, 'lettre_1466.pnoel'), (521, 'lettre_1467.pnoel'), (522, 'lettre_1468.pnoel'), (523, 'lettre_1469.pnoel'), (524, 'lettre_147.pnoel'), (525, 'lettre_1470.pnoel'), (526, 'lettre_1471.pnoel'), (527, 'lettre_1472.pnoel'), (528, 'lettre_1473.pnoel'), (529, 'lettre_1474.pnoel'), (530, 'lettre_1475.pnoel'), (531, 'lettre_1476.pnoel'), (532, 'lettre_1477.pnoel'), (533, 'lettre_1478.pnoel'), (534, 'lettre_1479.pnoel'), (535, 'lettre_148.pnoel'), (536, 'lettre_1480.pnoel'), (537, 'lettre_1481.pnoel'), (538, 'lettre_1482.pnoel'), (539, 'lettre_1483.pnoel'), (540, 'lettre_1484.pnoel'), (541, 'lettre_1485.pnoel'), (542, 'lettre_1486.pnoel'), (543, 'lettre_1487.pnoel'), (544, 'lettre_1488.pnoel'), (545, 'lettre_1489.pnoel'), (546, 'lettre_149.pnoel'), (547, 'lettre_1490.pnoel'), (548, 'lettre_1491.pnoel'), (549, 'lettre_1492.pnoel'), (550, 'lettre_1493.pnoel'), (551, 'lettre_1494.pnoel'), (552, 'lettre_1495.pnoel'), (553, 'lettre_1496.pnoel'), (554, 'lettre_1497.pnoel'), (555, 'lettre_1498.pnoel'), (556, 'lettre_1499.pnoel'), (557, 'lettre_15.pnoel'), (558, 'lettre_150.pnoel'), (559, 'lettre_1500.pnoel'), (560, 'lettre_1501.pnoel'), (561, 'lettre_1502.pnoel'), (562, 'lettre_1503.pnoel'), (563, 'lettre_1504.pnoel'), (564, 'lettre_1505.pnoel'), (565, 'lettre_1506.pnoel'), (566, 'lettre_1507.pnoel'), (567, 'lettre_1508.pnoel'), (568, 'lettre_1509.pnoel'), (569, 'lettre_151.pnoel'), (570, 'lettre_1510.pnoel'), (571, 'lettre_1511.pnoel'), (572, 'lettre_1512.pnoel'), (573, 'lettre_1513.pnoel'), (574, 'lettre_1514.pnoel'), (575, 'lettre_1515.pnoel'), (576, 'lettre_1516.pnoel'), (577, 'lettre_1517.pnoel'), (578, 'lettre_1518.pnoel'), (579, 'lettre_1519.pnoel'), (580, 'lettre_152.pnoel'), (581, 'lettre_1520.pnoel'), (582, 'lettre_1521.pnoel'), (583, 'lettre_1522.pnoel'), (584, 'lettre_1523.pnoel'), (585, 'lettre_1524.pnoel'), (586, 'lettre_1525.pnoel'), (587, 'lettre_1526.pnoel'), (588, 'lettre_1527.pnoel'), (589, 'lettre_1528.pnoel'), (590, 'lettre_1529.pnoel'), (591, 'lettre_153.pnoel'), (592, 'lettre_1530.pnoel'), (593, 'lettre_1531.pnoel'), (594, 'lettre_1532.pnoel'), (595, 'lettre_1533.pnoel'), (596, 'lettre_1534.pnoel'), (597, 'lettre_1535.pnoel'), (598, 'lettre_1536.pnoel'), (599, 'lettre_1537.pnoel'), (600, 'lettre_1538.pnoel'), (601, 'lettre_1539.pnoel'), (602, 'lettre_154.pnoel'), (603, 'lettre_1540.pnoel'), (604, 'lettre_1541.pnoel'), (605, 'lettre_1542.pnoel'), (606, 'lettre_1543.pnoel'), (607, 'lettre_1544.pnoel'), (608, 'lettre_1545.pnoel'), (609, 'lettre_1546.pnoel'), (610, 'lettre_1547.pnoel'), (611, 'lettre_1548.pnoel'), (612, 'lettre_1549.pnoel'), (613, 'lettre_155.pnoel'), (614, 'lettre_1550.pnoel'), (615, 'lettre_1551.pnoel'), (616, 'lettre_1552.pnoel'), (617, 'lettre_1553.pnoel'), (618, 'lettre_1554.pnoel'), (619, 'lettre_1555.pnoel'), (620, 'lettre_1556.pnoel'), (621, 'lettre_1557.pnoel'), (622, 'lettre_1558.pnoel'), (623, 'lettre_1559.pnoel'), (624, 'lettre_156.pnoel'), (625, 'lettre_1560.pnoel'), (626, 'lettre_1561.pnoel'), (627, 'lettre_1562.pnoel'), (628, 'lettre_1563.pnoel'), (629, 'lettre_1564.pnoel'), (630, 'lettre_1565.pnoel'), (631, 'lettre_1566.pnoel'), (632, 'lettre_1567.pnoel'), (633, 'lettre_1568.pnoel'), (634, 'lettre_1569.pnoel'), (635, 'lettre_157.pnoel'), (636, 'lettre_1570.pnoel'), (637, 'lettre_1571.pnoel'), (638, 'lettre_1572.pnoel'), (639, 'lettre_1573.pnoel'), (640, 'lettre_1574.pnoel'), (641, 'lettre_1575.pnoel'), (642, 'lettre_1576.pnoel'), (643, 'lettre_1577.pnoel'), (644, 'lettre_1578.pnoel'), (645, 'lettre_1579.pnoel'), (646, 'lettre_158.pnoel'), (647, 'lettre_1580.pnoel'), (648, 'lettre_1581.pnoel'), (649, 'lettre_1582.pnoel'), (650, 'lettre_1583.pnoel'), (651, 'lettre_1584.pnoel'), (652, 'lettre_1585.pnoel'), (653, 'lettre_1586.pnoel'), (654, 'lettre_1587.pnoel'), (655, 'lettre_1588.pnoel'), (656, 'lettre_1589.pnoel'), (657, 'lettre_159.pnoel'), (658, 'lettre_1590.pnoel'), (659, 'lettre_1591.pnoel'), (660, 'lettre_1592.pnoel'), (661, 'lettre_1593.pnoel'), (662, 'lettre_1594.pnoel'), (663, 'lettre_1595.pnoel'), (664, 'lettre_1596.pnoel'), (665, 'lettre_1597.pnoel'), (666, 'lettre_1598.pnoel'), (667, 'lettre_1599.pnoel'), (668, 'lettre_16.pnoel'), (669, 'lettre_160.pnoel'), (670, 'lettre_1600.pnoel'), (671, 'lettre_1601.pnoel'), (672, 'lettre_1602.pnoel'), (673, 'lettre_1603.pnoel'), (674, 'lettre_1604.pnoel'), (675, 'lettre_1605.pnoel'), (676, 'lettre_1606.pnoel'), (677, 'lettre_1607.pnoel'), (678, 'lettre_1608.pnoel'), (679, 'lettre_1609.pnoel'), (680, 'lettre_161.pnoel'), (681, 'lettre_1610.pnoel'), (682, 'lettre_1611.pnoel'), (683, 'lettre_1612.pnoel'), (684, 'lettre_1613.pnoel'), (685, 'lettre_1614.pnoel'), (686, 'lettre_1615.pnoel'), (687, 'lettre_1616.pnoel'), (688, 'lettre_1617.pnoel'), (689, 'lettre_1618.pnoel'), (690, 'lettre_1619.pnoel'), (691, 'lettre_162.pnoel'), (692, 'lettre_1620.pnoel'), (693, 'lettre_1621.pnoel'), (694, 'lettre_1622.pnoel'), (695, 'lettre_1623.pnoel'), (696, 'lettre_1624.pnoel'), (697, 'lettre_1625.pnoel'), (698, 'lettre_1626.pnoel'), (699, 'lettre_1627.pnoel'), (700, 'lettre_1628.pnoel'), (701, 'lettre_1629.pnoel'), (702, 'lettre_163.pnoel'), (703, 'lettre_1630.pnoel'), (704, 'lettre_1631.pnoel'), (705, 'lettre_1632.pnoel'), (706, 'lettre_1633.pnoel'), (707, 'lettre_1634.pnoel'), (708, 'lettre_1635.pnoel'), (709, 'lettre_1636.pnoel'), (710, 'lettre_1637.pnoel'), (711, 'lettre_1638.pnoel'), (712, 'lettre_1639.pnoel'), (713, 'lettre_164.pnoel'), (714, 'lettre_1640.pnoel'), (715, 'lettre_165.pnoel'), (716, 'lettre_166.pnoel'), (717, 'lettre_167.pnoel'), (718, 'lettre_168.pnoel'), (719, 'lettre_169.pnoel'), (720, 'lettre_17.pnoel'), (721, 'lettre_170.pnoel'), (722, 'lettre_171.pnoel'), (723, 'lettre_172.pnoel'), (724, 'lettre_173.pnoel'), (725, 'lettre_174.pnoel'), (726, 'lettre_175.pnoel'), (727, 'lettre_176.pnoel'), (728, 'lettre_177.pnoel'), (729, 'lettre_178.pnoel'), (730, 'lettre_179.pnoel'), (731, 'lettre_18.pnoel'), (732, 'lettre_180.pnoel'), (733, 'lettre_181.pnoel'), (734, 'lettre_182.pnoel'), (735, 'lettre_183.pnoel'), (736, 'lettre_184.pnoel'), (737, 'lettre_185.pnoel'), (738, 'lettre_186.pnoel'), (739, 'lettre_187.pnoel'), (740, 'lettre_188.pnoel'), (741, 'lettre_189.pnoel'), (742, 'lettre_19.pnoel'), (743, 'lettre_190.pnoel'), (744, 'lettre_191.pnoel'), (745, 'lettre_192.pnoel'), (746, 'lettre_193.pnoel'), (747, 'lettre_194.pnoel'), (748, 'lettre_195.pnoel'), (749, 'lettre_196.pnoel'), (750, 'lettre_197.pnoel'), (751, 'lettre_198.pnoel'), (752, 'lettre_199.pnoel'), (753, 'lettre_2.pnoel'), (754, 'lettre_20.pnoel'), (755, 'lettre_200.pnoel'), (756, 'lettre_201.pnoel'), (757, 'lettre_202.pnoel'), (758, 'lettre_203.pnoel'), (759, 'lettre_204.pnoel'), (760, 'lettre_205.pnoel'), (761, 'lettre_206.pnoel'), (762, 'lettre_207.pnoel'), (763, 'lettre_208.pnoel'), (764, 'lettre_209.pnoel'), (765, 'lettre_21.pnoel'), (766, 'lettre_210.pnoel'), (767, 'lettre_211.pnoel'), (768, 'lettre_212.pnoel'), (769, 'lettre_213.pnoel'), (770, 'lettre_214.pnoel'), (771, 'lettre_215.pnoel'), (772, 'lettre_216.pnoel'), (773, 'lettre_217.pnoel'), (774, 'lettre_218.pnoel'), (775, 'lettre_219.pnoel'), (776, 'lettre_22.pnoel'), (777, 'lettre_220.pnoel'), (778, 'lettre_221.pnoel'), (779, 'lettre_222.pnoel'), (780, 'lettre_223.pnoel'), (781, 'lettre_224.pnoel'), (782, 'lettre_225.pnoel'), (783, 'lettre_226.pnoel'), (784, 'lettre_227.pnoel'), (785, 'lettre_228.pnoel'), (786, 'lettre_229.pnoel'), (787, 'lettre_23.pnoel'), (788, 'lettre_230.pnoel'), (789, 'lettre_231.pnoel'), (790, 'lettre_232.pnoel'), (791, 'lettre_233.pnoel'), (792, 'lettre_234.pnoel'), (793, 'lettre_235.pnoel'), (794, 'lettre_236.pnoel'), (795, 'lettre_237.pnoel'), (796, 'lettre_238.pnoel'), (797, 'lettre_239.pnoel'), (798, 'lettre_24.pnoel'), (799, 'lettre_240.pnoel'), (800, 'lettre_241.pnoel'), (801, 'lettre_242.pnoel'), (802, 'lettre_243.pnoel'), (803, 'lettre_244.pnoel'), (804, 'lettre_245.pnoel'), (805, 'lettre_246.pnoel'), (806, 'lettre_247.pnoel'), (807, 'lettre_248.pnoel'), (808, 'lettre_249.pnoel'), (809, 'lettre_25.pnoel'), (810, 'lettre_250.pnoel'), (811, 'lettre_251.pnoel'), (812, 'lettre_252.pnoel'), (813, 'lettre_253.pnoel'), (814, 'lettre_254.pnoel'), (815, 'lettre_255.pnoel'), (816, 'lettre_256.pnoel'), (817, 'lettre_257.pnoel'), (818, 'lettre_258.pnoel'), (819, 'lettre_259.pnoel'), (820, 'lettre_26.pnoel'), (821, 'lettre_260.pnoel'), (822, 'lettre_261.pnoel'), (823, 'lettre_262.pnoel'), (824, 'lettre_263.pnoel'), (825, 'lettre_264.pnoel'), (826, 'lettre_265.pnoel'), (827, 'lettre_266.pnoel'), (828, 'lettre_267.pnoel'), (829, 'lettre_268.pnoel'), (830, 'lettre_269.pnoel'), (831, 'lettre_27.pnoel'), (832, 'lettre_270.pnoel'), (833, 'lettre_271.pnoel'), (834, 'lettre_272.pnoel'), (835, 'lettre_273.pnoel'), (836, 'lettre_274.pnoel'), (837, 'lettre_275.pnoel'), (838, 'lettre_276.pnoel'), (839, 'lettre_277.pnoel'), (840, 'lettre_278.pnoel'), (841, 'lettre_279.pnoel'), (842, 'lettre_28.pnoel'), (843, 'lettre_280.pnoel'), (844, 'lettre_281.pnoel'), (845, 'lettre_282.pnoel'), (846, 'lettre_283.pnoel'), (847, 'lettre_284.pnoel'), (848, 'lettre_285.pnoel'), (849, 'lettre_286.pnoel'), (850, 'lettre_287.pnoel'), (851, 'lettre_288.pnoel'), (852, 'lettre_289.pnoel'), (853, 'lettre_29.pnoel'), (854, 'lettre_290.pnoel'), (855, 'lettre_291.pnoel'), (856, 'lettre_292.pnoel'), (857, 'lettre_293.pnoel'), (858, 'lettre_294.pnoel'), (859, 'lettre_295.pnoel'), (860, 'lettre_296.pnoel'), (861, 'lettre_297.pnoel'), (862, 'lettre_298.pnoel'), (863, 'lettre_299.pnoel'), (864, 'lettre_3.pnoel'), (865, 'lettre_30.pnoel'), (866, 'lettre_300.pnoel'), (867, 'lettre_301.pnoel'), (868, 'lettre_302.pnoel'), (869, 'lettre_303.pnoel'), (870, 'lettre_304.pnoel'), (871, 'lettre_305.pnoel'), (872, 'lettre_306.pnoel'), (873, 'lettre_307.pnoel'), (874, 'lettre_308.pnoel'), (875, 'lettre_309.pnoel'), (876, 'lettre_31.pnoel'), (877, 'lettre_310.pnoel'), (878, 'lettre_311.pnoel'), (879, 'lettre_312.pnoel'), (880, 'lettre_313.pnoel'), (881, 'lettre_314.pnoel'), (882, 'lettre_315.pnoel'), (883, 'lettre_316.pnoel'), (884, 'lettre_317.pnoel'), (885, 'lettre_318.pnoel'), (886, 'lettre_319.pnoel'), (887, 'lettre_32.pnoel'), (888, 'lettre_320.pnoel'), (889, 'lettre_321.pnoel'), (890, 'lettre_322.pnoel'), (891, 'lettre_323.pnoel'), (892, 'lettre_324.pnoel'), (893, 'lettre_325.pnoel'), (894, 'lettre_326.pnoel'), (895, 'lettre_327.pnoel'), (896, 'lettre_328.pnoel'), (897, 'lettre_329.pnoel'), (898, 'lettre_33.pnoel'), (899, 'lettre_330.pnoel'), (900, 'lettre_331.pnoel'), (901, 'lettre_332.pnoel'), (902, 'lettre_333.pnoel'), (903, 'lettre_334.pnoel'), (904, 'lettre_335.pnoel'), (905, 'lettre_336.pnoel'), (906, 'lettre_337.pnoel'), (907, 'lettre_338.pnoel'), (908, 'lettre_339.pnoel'), (909, 'lettre_34.pnoel'), (910, 'lettre_340.pnoel'), (911, 'lettre_341.pnoel'), (912, 'lettre_342.pnoel'), (913, 'lettre_343.pnoel'), (914, 'lettre_344.pnoel'), (915, 'lettre_345.pnoel'), (916, 'lettre_346.pnoel'), (917, 'lettre_347.pnoel'), (918, 'lettre_348.pnoel'), (919, 'lettre_349.pnoel'), (920, 'lettre_35.pnoel'), (921, 'lettre_350.pnoel'), (922, 'lettre_351.pnoel'), (923, 'lettre_352.pnoel'), (924, 'lettre_353.pnoel'), (925, 'lettre_354.pnoel'), (926, 'lettre_355.pnoel'), (927, 'lettre_356.pnoel'), (928, 'lettre_357.pnoel'), (929, 'lettre_358.pnoel'), (930, 'lettre_359.pnoel'), (931, 'lettre_36.pnoel'), (932, 'lettre_360.pnoel'), (933, 'lettre_361.pnoel'), (934, 'lettre_362.pnoel'), (935, 'lettre_363.pnoel'), (936, 'lettre_364.pnoel'), (937, 'lettre_365.pnoel'), (938, 'lettre_366.pnoel'), (939, 'lettre_367.pnoel'), (940, 'lettre_368.pnoel'), (941, 'lettre_369.pnoel'), (942, 'lettre_37.pnoel'), (943, 'lettre_370.pnoel'), (944, 'lettre_371.pnoel'), (945, 'lettre_372.pnoel'), (946, 'lettre_373.pnoel'), (947, 'lettre_374.pnoel'), (948, 'lettre_375.pnoel'), (949, 'lettre_376.pnoel'), (950, 'lettre_377.pnoel'), (951, 'lettre_378.pnoel'), (952, 'lettre_379.pnoel'), (953, 'lettre_38.pnoel'), (954, 'lettre_380.pnoel'), (955, 'lettre_381.pnoel'), (956, 'lettre_382.pnoel'), (957, 'lettre_383.pnoel'), (958, 'lettre_384.pnoel'), (959, 'lettre_385.pnoel'), (960, 'lettre_386.pnoel'), (961, 'lettre_387.pnoel'), (962, 'lettre_388.pnoel'), (963, 'lettre_389.pnoel'), (964, 'lettre_39.pnoel'), (965, 'lettre_390.pnoel'), (966, 'lettre_391.pnoel'), (967, 'lettre_392.pnoel'), (968, 'lettre_393.pnoel'), (969, 'lettre_394.pnoel'), (970, 'lettre_395.pnoel'), (971, 'lettre_396.pnoel'), (972, 'lettre_397.pnoel'), (973, 'lettre_398.pnoel'), (974, 'lettre_399.pnoel'), (975, 'lettre_4.pnoel'), (976, 'lettre_40.pnoel'), (977, 'lettre_400.pnoel'), (978, 'lettre_401.pnoel'), (979, 'lettre_402.pnoel'), (980, 'lettre_403.pnoel'), (981, 'lettre_404.pnoel'), (982, 'lettre_405.pnoel'), (983, 'lettre_406.pnoel'), (984, 'lettre_407.pnoel'), (985, 'lettre_408.pnoel'), (986, 'lettre_409.pnoel'), (987, 'lettre_41.pnoel'), (988, 'lettre_410.pnoel'), (989, 'lettre_411.pnoel'), (990, 'lettre_412.pnoel'), (991, 'lettre_413.pnoel'), (992, 'lettre_414.pnoel'), (993, 'lettre_415.pnoel'), (994, 'lettre_416.pnoel'), (995, 'lettre_417.pnoel'), (996, 'lettre_418.pnoel'), (997, 'lettre_419.pnoel'), (998, 'lettre_42.pnoel'), (999, 'lettre_420.pnoel'), (1000, 'lettre_421.pnoel'), (1001, 'lettre_422.pnoel'), (1002, 'lettre_423.pnoel'), (1003, 'lettre_424.pnoel'), (1004, 'lettre_425.pnoel'), (1005, 'lettre_426.pnoel'), (1006, 'lettre_427.pnoel'), (1007, 'lettre_428.pnoel'), (1008, 'lettre_429.pnoel'), (1009, 'lettre_43.pnoel'), (1010, 'lettre_430.pnoel'), (1011, 'lettre_431.pnoel'), (1012, 'lettre_432.pnoel'), (1013, 'lettre_433.pnoel'), (1014, 'lettre_434.pnoel'), (1015, 'lettre_435.pnoel'), (1016, 'lettre_436.pnoel'), (1017, 'lettre_437.pnoel'), (1018, 'lettre_438.pnoel'), (1019, 'lettre_439.pnoel'), (1020, 'lettre_44.pnoel'), (1021, 'lettre_440.pnoel'), (1022, 'lettre_441.pnoel'), (1023, 'lettre_442.pnoel'), (1024, 'lettre_443.pnoel'), (1025, 'lettre_444.pnoel'), (1026, 'lettre_445.pnoel'), (1027, 'lettre_446.pnoel'), (1028, 'lettre_447.pnoel'), (1029, 'lettre_448.pnoel'), (1030, 'lettre_449.pnoel'), (1031, 'lettre_45.pnoel'), (1032, 'lettre_450.pnoel'), (1033, 'lettre_451.pnoel'), (1034, 'lettre_452.pnoel'), (1035, 'lettre_453.pnoel'), (1036, 'lettre_454.pnoel'), (1037, 'lettre_455.pnoel'), (1038, 'lettre_456.pnoel'), (1039, 'lettre_457.pnoel'), (1040, 'lettre_458.pnoel'), (1041, 'lettre_459.pnoel'), (1042, 'lettre_46.pnoel'), (1043, 'lettre_460.pnoel'), (1044, 'lettre_461.pnoel'), (1045, 'lettre_462.pnoel'), (1046, 'lettre_463.pnoel'), (1047, 'lettre_464.pnoel'), (1048, 'lettre_465.pnoel'), (1049, 'lettre_466.pnoel'), (1050, 'lettre_467.pnoel'), (1051, 'lettre_468.pnoel'), (1052, 'lettre_469.pnoel'), (1053, 'lettre_47.pnoel'), (1054, 'lettre_470.pnoel'), (1055, 'lettre_471.pnoel'), (1056, 'lettre_472.pnoel'), (1057, 'lettre_473.pnoel'), (1058, 'lettre_474.pnoel'), (1059, 'lettre_475.pnoel'), (1060, 'lettre_476.pnoel'), (1061, 'lettre_477.pnoel'), (1062, 'lettre_478.pnoel'), (1063, 'lettre_479.pnoel'), (1064, 'lettre_48.pnoel'), (1065, 'lettre_480.pnoel'), (1066, 'lettre_481.pnoel'), (1067, 'lettre_482.pnoel'), (1068, 'lettre_483.pnoel'), (1069, 'lettre_484.pnoel'), (1070, 'lettre_485.pnoel'), (1071, 'lettre_486.pnoel'), (1072, 'lettre_487.pnoel'), (1073, 'lettre_488.pnoel'), (1074, 'lettre_489.pnoel'), (1075, 'lettre_49.pnoel'), (1076, 'lettre_490.pnoel'), (1077, 'lettre_491.pnoel'), (1078, 'lettre_492.pnoel'), (1079, 'lettre_493.pnoel'), (1080, 'lettre_494.pnoel'), (1081, 'lettre_495.pnoel'), (1082, 'lettre_496.pnoel'), (1083, 'lettre_497.pnoel'), (1084, 'lettre_498.pnoel'), (1085, 'lettre_499.pnoel'), (1086, 'lettre_5.pnoel'), (1087, 'lettre_50.pnoel'), (1088, 'lettre_500.pnoel'), (1089, 'lettre_501.pnoel'), (1090, 'lettre_502.pnoel'), (1091, 'lettre_503.pnoel'), (1092, 'lettre_504.pnoel'), (1093, 'lettre_505.pnoel'), (1094, 'lettre_506.pnoel'), (1095, 'lettre_507.pnoel'), (1096, 'lettre_508.pnoel'), (1097, 'lettre_509.pnoel'), (1098, 'lettre_51.pnoel'), (1099, 'lettre_510.pnoel'), (1100, 'lettre_511.pnoel'), (1101, 'lettre_512.pnoel'), (1102, 'lettre_513.pnoel'), (1103, 'lettre_514.pnoel'), (1104, 'lettre_515.pnoel'), (1105, 'lettre_516.pnoel'), (1106, 'lettre_517.pnoel'), (1107, 'lettre_518.pnoel'), (1108, 'lettre_519.pnoel'), (1109, 'lettre_52.pnoel'), (1110, 'lettre_520.pnoel'), (1111, 'lettre_521.pnoel'), (1112, 'lettre_522.pnoel'), (1113, 'lettre_523.pnoel'), (1114, 'lettre_524.pnoel'), (1115, 'lettre_525.pnoel'), (1116, 'lettre_526.pnoel'), (1117, 'lettre_527.pnoel'), (1118, 'lettre_528.pnoel'), (1119, 'lettre_529.pnoel'), (1120, 'lettre_53.pnoel'), (1121, 'lettre_530.pnoel'), (1122, 'lettre_531.pnoel'), (1123, 'lettre_532.pnoel'), (1124, 'lettre_533.pnoel'), (1125, 'lettre_534.pnoel'), (1126, 'lettre_535.pnoel'), (1127, 'lettre_536.pnoel'), (1128, 'lettre_537.pnoel'), (1129, 'lettre_538.pnoel'), (1130, 'lettre_539.pnoel'), (1131, 'lettre_54.pnoel'), (1132, 'lettre_540.pnoel'), (1133, 'lettre_541.pnoel'), (1134, 'lettre_542.pnoel'), (1135, 'lettre_543.pnoel'), (1136, 'lettre_544.pnoel'), (1137, 'lettre_545.pnoel'), (1138, 'lettre_546.pnoel'), (1139, 'lettre_547.pnoel'), (1140, 'lettre_548.pnoel'), (1141, 'lettre_549.pnoel'), (1142, 'lettre_55.pnoel'), (1143, 'lettre_550.pnoel'), (1144, 'lettre_551.pnoel'), (1145, 'lettre_552.pnoel'), (1146, 'lettre_553.pnoel'), (1147, 'lettre_554.pnoel'), (1148, 'lettre_555.pnoel'), (1149, 'lettre_556.pnoel'), (1150, 'lettre_557.pnoel'), (1151, 'lettre_558.pnoel'), (1152, 'lettre_559.pnoel'), (1153, 'lettre_56.pnoel'), (1154, 'lettre_560.pnoel'), (1155, 'lettre_561.pnoel'), (1156, 'lettre_562.pnoel'), (1157, 'lettre_563.pnoel'), (1158, 'lettre_564.pnoel'), (1159, 'lettre_565.pnoel'), (1160, 'lettre_566.pnoel'), (1161, 'lettre_567.pnoel'), (1162, 'lettre_568.pnoel'), (1163, 'lettre_569.pnoel'), (1164, 'lettre_57.pnoel'), (1165, 'lettre_570.pnoel'), (1166, 'lettre_571.pnoel'), (1167, 'lettre_572.pnoel'), (1168, 'lettre_573.pnoel'), (1169, 'lettre_574.pnoel'), (1170, 'lettre_575.pnoel'), (1171, 'lettre_576.pnoel'), (1172, 'lettre_577.pnoel'), (1173, 'lettre_578.pnoel'), (1174, 'lettre_579.pnoel'), (1175, 'lettre_58.pnoel'), (1176, 'lettre_580.pnoel'), (1177, 'lettre_581.pnoel'), (1178, 'lettre_582.pnoel'), (1179, 'lettre_583.pnoel'), (1180, 'lettre_584.pnoel'), (1181, 'lettre_585.pnoel'), (1182, 'lettre_586.pnoel'), (1183, 'lettre_587.pnoel'), (1184, 'lettre_588.pnoel'), (1185, 'lettre_589.pnoel'), (1186, 'lettre_59.pnoel'), (1187, 'lettre_590.pnoel'), (1188, 'lettre_591.pnoel'), (1189, 'lettre_592.pnoel'), (1190, 'lettre_593.pnoel'), (1191, 'lettre_594.pnoel'), (1192, 'lettre_595.pnoel'), (1193, 'lettre_596.pnoel'), (1194, 'lettre_597.pnoel'), (1195, 'lettre_598.pnoel'), (1196, 'lettre_599.pnoel'), (1197, 'lettre_6.pnoel'), (1198, 'lettre_60.pnoel'), (1199, 'lettre_600.pnoel'), (1200, 'lettre_601.pnoel'), (1201, 'lettre_602.pnoel'), (1202, 'lettre_603.pnoel'), (1203, 'lettre_604.pnoel'), (1204, 'lettre_605.pnoel'), (1205, 'lettre_606.pnoel'), (1206, 'lettre_607.pnoel'), (1207, 'lettre_608.pnoel'), (1208, 'lettre_609.pnoel'), (1209, 'lettre_61.pnoel'), (1210, 'lettre_610.pnoel'), (1211, 'lettre_611.pnoel'), (1212, 'lettre_612.pnoel'), (1213, 'lettre_613.pnoel'), (1214, 'lettre_614.pnoel'), (1215, 'lettre_615.pnoel'), (1216, 'lettre_616.pnoel'), (1217, 'lettre_617.pnoel'), (1218, 'lettre_618.pnoel'), (1219, 'lettre_619.pnoel'), (1220, 'lettre_62.pnoel'), (1221, 'lettre_620.pnoel'), (1222, 'lettre_621.pnoel'), (1223, 'lettre_622.pnoel'), (1224, 'lettre_623.pnoel'), (1225, 'lettre_624.pnoel'), (1226, 'lettre_625.pnoel'), (1227, 'lettre_626.pnoel'), (1228, 'lettre_627.pnoel'), (1229, 'lettre_628.pnoel'), (1230, 'lettre_629.pnoel'), (1231, 'lettre_63.pnoel'), (1232, 'lettre_630.pnoel'), (1233, 'lettre_631.pnoel'), (1234, 'lettre_632.pnoel'), (1235, 'lettre_633.pnoel'), (1236, 'lettre_634.pnoel'), (1237, 'lettre_635.pnoel'), (1238, 'lettre_636.pnoel'), (1239, 'lettre_637.pnoel'), (1240, 'lettre_638.pnoel'), (1241, 'lettre_639.pnoel'), (1242, 'lettre_64.pnoel'), (1243, 'lettre_640.pnoel'), (1244, 'lettre_641.pnoel'), (1245, 'lettre_642.pnoel'), (1246, 'lettre_643.pnoel'), (1247, 'lettre_644.pnoel'), (1248, 'lettre_645.pnoel'), (1249, 'lettre_646.pnoel'), (1250, 'lettre_647.pnoel'), (1251, 'lettre_648.pnoel'), (1252, 'lettre_649.pnoel'), (1253, 'lettre_65.pnoel'), (1254, 'lettre_650.pnoel'), (1255, 'lettre_651.pnoel'), (1256, 'lettre_652.pnoel'), (1257, 'lettre_653.pnoel'), (1258, 'lettre_654.pnoel'), (1259, 'lettre_655.pnoel'), (1260, 'lettre_656.pnoel'), (1261, 'lettre_657.pnoel'), (1262, 'lettre_658.pnoel'), (1263, 'lettre_659.pnoel'), (1264, 'lettre_66.pnoel'), (1265, 'lettre_660.pnoel'), (1266, 'lettre_661.pnoel'), (1267, 'lettre_662.pnoel'), (1268, 'lettre_663.pnoel'), (1269, 'lettre_664.pnoel'), (1270, 'lettre_665.pnoel'), (1271, 'lettre_666.pnoel'), (1272, 'lettre_667.pnoel'), (1273, 'lettre_668.pnoel'), (1274, 'lettre_669.pnoel'), (1275, 'lettre_67.pnoel'), (1276, 'lettre_670.pnoel'), (1277, 'lettre_671.pnoel'), (1278, 'lettre_672.pnoel'), (1279, 'lettre_673.pnoel'), (1280, 'lettre_674.pnoel'), (1281, 'lettre_675.pnoel'), (1282, 'lettre_676.pnoel'), (1283, 'lettre_677.pnoel'), (1284, 'lettre_678.pnoel'), (1285, 'lettre_679.pnoel'), (1286, 'lettre_68.pnoel'), (1287, 'lettre_680.pnoel'), (1288, 'lettre_681.pnoel'), (1289, 'lettre_682.pnoel'), (1290, 'lettre_683.pnoel'), (1291, 'lettre_684.pnoel'), (1292, 'lettre_685.pnoel'), (1293, 'lettre_686.pnoel'), (1294, 'lettre_687.pnoel'), (1295, 'lettre_688.pnoel'), (1296, 'lettre_689.pnoel'), (1297, 'lettre_69.pnoel'), (1298, 'lettre_690.pnoel'), (1299, 'lettre_691.pnoel'), (1300, 'lettre_692.pnoel'), (1301, 'lettre_693.pnoel'), (1302, 'lettre_694.pnoel'), (1303, 'lettre_695.pnoel'), (1304, 'lettre_696.pnoel'), (1305, 'lettre_697.pnoel'), (1306, 'lettre_698.pnoel'), (1307, 'lettre_699.pnoel'), (1308, 'lettre_7.pnoel'), (1309, 'lettre_70.pnoel'), (1310, 'lettre_700.pnoel'), (1311, 'lettre_701.pnoel'), (1312, 'lettre_702.pnoel'), (1313, 'lettre_703.pnoel'), (1314, 'lettre_704.pnoel'), (1315, 'lettre_705.pnoel'), (1316, 'lettre_706.pnoel'), (1317, 'lettre_707.pnoel'), (1318, 'lettre_708.pnoel'), (1319, 'lettre_709.pnoel'), (1320, 'lettre_71.pnoel'), (1321, 'lettre_710.pnoel'), (1322, 'lettre_711.pnoel'), (1323, 'lettre_712.pnoel'), (1324, 'lettre_713.pnoel'), (1325, 'lettre_714.pnoel'), (1326, 'lettre_715.pnoel'), (1327, 'lettre_716.pnoel'), (1328, 'lettre_717.pnoel'), (1329, 'lettre_718.pnoel'), (1330, 'lettre_719.pnoel'), (1331, 'lettre_72.pnoel'), (1332, 'lettre_720.pnoel'), (1333, 'lettre_721.pnoel'), (1334, 'lettre_722.pnoel'), (1335, 'lettre_723.pnoel'), (1336, 'lettre_724.pnoel'), (1337, 'lettre_725.pnoel'), (1338, 'lettre_726.pnoel'), (1339, 'lettre_727.pnoel'), (1340, 'lettre_728.pnoel'), (1341, 'lettre_729.pnoel'), (1342, 'lettre_73.pnoel'), (1343, 'lettre_730.pnoel'), (1344, 'lettre_731.pnoel'), (1345, 'lettre_732.pnoel'), (1346, 'lettre_733.pnoel'), (1347, 'lettre_734.pnoel'), (1348, 'lettre_735.pnoel'), (1349, 'lettre_736.pnoel'), (1350, 'lettre_737.pnoel'), (1351, 'lettre_738.pnoel'), (1352, 'lettre_739.pnoel'), (1353, 'lettre_74.pnoel'), (1354, 'lettre_740.pnoel'), (1355, 'lettre_741.pnoel'), (1356, 'lettre_742.pnoel'), (1357, 'lettre_743.pnoel'), (1358, 'lettre_744.pnoel'), (1359, 'lettre_745.pnoel'), (1360, 'lettre_746.pnoel'), (1361, 'lettre_747.pnoel'), (1362, 'lettre_748.pnoel'), (1363, 'lettre_749.pnoel'), (1364, 'lettre_75.pnoel'), (1365, 'lettre_750.pnoel'), (1366, 'lettre_751.pnoel'), (1367, 'lettre_752.pnoel'), (1368, 'lettre_753.pnoel'), (1369, 'lettre_754.pnoel'), (1370, 'lettre_755.pnoel'), (1371, 'lettre_756.pnoel'), (1372, 'lettre_757.pnoel'), (1373, 'lettre_758.pnoel'), (1374, 'lettre_759.pnoel'), (1375, 'lettre_76.pnoel'), (1376, 'lettre_760.pnoel'), (1377, 'lettre_761.pnoel'), (1378, 'lettre_762.pnoel'), (1379, 'lettre_763.pnoel'), (1380, 'lettre_764.pnoel'), (1381, 'lettre_765.pnoel'), (1382, 'lettre_766.pnoel'), (1383, 'lettre_767.pnoel'), (1384, 'lettre_768.pnoel'), (1385, 'lettre_769.pnoel'), (1386, 'lettre_77.pnoel'), (1387, 'lettre_770.pnoel'), (1388, 'lettre_771.pnoel'), (1389, 'lettre_772.pnoel'), (1390, 'lettre_773.pnoel'), (1391, 'lettre_774.pnoel'), (1392, 'lettre_775.pnoel'), (1393, 'lettre_776.pnoel'), (1394, 'lettre_777.pnoel'), (1395, 'lettre_778.pnoel'), (1396, 'lettre_779.pnoel'), (1397, 'lettre_78.pnoel'), (1398, 'lettre_780.pnoel'), (1399, 'lettre_781.pnoel'), (1400, 'lettre_782.pnoel'), (1401, 'lettre_783.pnoel'), (1402, 'lettre_784.pnoel'), (1403, 'lettre_785.pnoel'), (1404, 'lettre_786.pnoel'), (1405, 'lettre_787.pnoel'), (1406, 'lettre_788.pnoel'), (1407, 'lettre_789.pnoel'), (1408, 'lettre_79.pnoel'), (1409, 'lettre_790.pnoel'), (1410, 'lettre_791.pnoel'), (1411, 'lettre_792.pnoel'), (1412, 'lettre_793.pnoel'), (1413, 'lettre_794.pnoel'), (1414, 'lettre_795.pnoel'), (1415, 'lettre_796.pnoel'), (1416, 'lettre_797.pnoel'), (1417, 'lettre_798.pnoel'), (1418, 'lettre_799.pnoel'), (1419, 'lettre_8.pnoel'), (1420, 'lettre_80.pnoel'), (1421, 'lettre_800.pnoel'), (1422, 'lettre_801.pnoel'), (1423, 'lettre_802.pnoel'), (1424, 'lettre_803.pnoel'), (1425, 'lettre_804.pnoel'), (1426, 'lettre_805.pnoel'), (1427, 'lettre_806.pnoel'), (1428, 'lettre_807.pnoel'), (1429, 'lettre_808.pnoel'), (1430, 'lettre_809.pnoel'), (1431, 'lettre_81.pnoel'), (1432, 'lettre_810.pnoel'), (1433, 'lettre_811.pnoel'), (1434, 'lettre_812.pnoel'), (1435, 'lettre_813.pnoel'), (1436, 'lettre_814.pnoel'), (1437, 'lettre_815.pnoel'), (1438, 'lettre_816.pnoel'), (1439, 'lettre_817.pnoel'), (1440, 'lettre_818.pnoel'), (1441, 'lettre_819.pnoel'), (1442, 'lettre_82.pnoel'), (1443, 'lettre_820.pnoel'), (1444, 'lettre_821.pnoel'), (1445, 'lettre_822.pnoel'), (1446, 'lettre_823.pnoel'), (1447, 'lettre_824.pnoel'), (1448, 'lettre_825.pnoel'), (1449, 'lettre_826.pnoel'), (1450, 'lettre_827.pnoel'), (1451, 'lettre_828.pnoel'), (1452, 'lettre_829.pnoel'), (1453, 'lettre_83.pnoel'), (1454, 'lettre_830.pnoel'), (1455, 'lettre_831.pnoel'), (1456, 'lettre_832.pnoel'), (1457, 'lettre_833.pnoel'), (1458, 'lettre_834.pnoel'), (1459, 'lettre_835.pnoel'), (1460, 'lettre_836.pnoel'), (1461, 'lettre_837.pnoel'), (1462, 'lettre_838.pnoel'), (1463, 'lettre_839.pnoel'), (1464, 'lettre_84.pnoel'), (1465, 'lettre_840.pnoel'), (1466, 'lettre_841.pnoel'), (1467, 'lettre_842.pnoel'), (1468, 'lettre_843.pnoel'), (1469, 'lettre_844.pnoel'), (1470, 'lettre_845.pnoel'), (1471, 'lettre_846.pnoel'), (1472, 'lettre_847.pnoel'), (1473, 'lettre_848.pnoel'), (1474, 'lettre_849.pnoel'), (1475, 'lettre_85.pnoel'), (1476, 'lettre_850.pnoel'), (1477, 'lettre_851.pnoel'), (1478, 'lettre_852.pnoel'), (1479, 'lettre_853.pnoel'), (1480, 'lettre_854.pnoel'), (1481, 'lettre_855.pnoel'), (1482, 'lettre_856.pnoel'), (1483, 'lettre_857.pnoel'), (1484, 'lettre_858.pnoel'), (1485, 'lettre_859.pnoel'), (1486, 'lettre_86.pnoel'), (1487, 'lettre_860.pnoel'), (1488, 'lettre_861.pnoel'), (1489, 'lettre_862.pnoel'), (1490, 'lettre_863.pnoel'), (1491, 'lettre_864.pnoel'), (1492, 'lettre_865.pnoel'), (1493, 'lettre_866.pnoel'), (1494, 'lettre_867.pnoel'), (1495, 'lettre_868.pnoel'), (1496, 'lettre_869.pnoel'), (1497, 'lettre_87.pnoel'), (1498, 'lettre_870.pnoel'), (1499, 'lettre_871.pnoel'), (1500, 'lettre_872.pnoel'), (1501, 'lettre_873.pnoel'), (1502, 'lettre_874.pnoel'), (1503, 'lettre_875.pnoel'), (1504, 'lettre_876.pnoel'), (1505, 'lettre_877.pnoel'), (1506, 'lettre_878.pnoel'), (1507, 'lettre_879.pnoel'), (1508, 'lettre_88.pnoel'), (1509, 'lettre_880.pnoel'), (1510, 'lettre_881.pnoel'), (1511, 'lettre_882.pnoel'), (1512, 'lettre_883.pnoel'), (1513, 'lettre_884.pnoel'), (1514, 'lettre_885.pnoel'), (1515, 'lettre_886.pnoel'), (1516, 'lettre_887.pnoel'), (1517, 'lettre_888.pnoel'), (1518, 'lettre_889.pnoel'), (1519, 'lettre_89.pnoel'), (1520, 'lettre_890.pnoel'), (1521, 'lettre_891.pnoel'), (1522, 'lettre_892.pnoel'), (1523, 'lettre_893.pnoel'), (1524, 'lettre_894.pnoel'), (1525, 'lettre_895.pnoel'), (1526, 'lettre_896.pnoel'), (1527, 'lettre_897.pnoel'), (1528, 'lettre_898.pnoel'), (1529, 'lettre_899.pnoel'), (1530, 'lettre_9.pnoel'), (1531, 'lettre_90.pnoel'), (1532, 'lettre_900.pnoel'), (1533, 'lettre_901.pnoel'), (1534, 'lettre_902.pnoel'), (1535, 'lettre_903.pnoel'), (1536, 'lettre_904.pnoel'), (1537, 'lettre_905.pnoel'), (1538, 'lettre_906.pnoel'), (1539, 'lettre_907.pnoel'), (1540, 'lettre_908.pnoel'), (1541, 'lettre_909.pnoel'), (1542, 'lettre_91.pnoel'), (1543, 'lettre_910.pnoel'), (1544, 'lettre_911.pnoel'), (1545, 'lettre_912.pnoel'), (1546, 'lettre_913.pnoel'), (1547, 'lettre_914.pnoel'), (1548, 'lettre_915.pnoel'), (1549, 'lettre_916.pnoel'), (1550, 'lettre_917.pnoel'), (1551, 'lettre_918.pnoel'), (1552, 'lettre_919.pnoel'), (1553, 'lettre_92.pnoel'), (1554, 'lettre_920.pnoel'), (1555, 'lettre_921.pnoel'), (1556, 'lettre_922.pnoel'), (1557, 'lettre_923.pnoel'), (1558, 'lettre_924.pnoel'), (1559, 'lettre_925.pnoel'), (1560, 'lettre_926.pnoel'), (1561, 'lettre_927.pnoel'), (1562, 'lettre_928.pnoel'), (1563, 'lettre_929.pnoel'), (1564, 'lettre_93.pnoel'), (1565, 'lettre_930.pnoel'), (1566, 'lettre_931.pnoel'), (1567, 'lettre_932.pnoel'), (1568, 'lettre_933.pnoel'), (1569, 'lettre_934.pnoel'), (1570, 'lettre_935.pnoel'), (1571, 'lettre_936.pnoel'), (1572, 'lettre_937.pnoel'), (1573, 'lettre_938.pnoel'), (1574, 'lettre_939.pnoel'), (1575, 'lettre_94.pnoel'), (1576, 'lettre_940.pnoel'), (1577, 'lettre_941.pnoel'), (1578, 'lettre_942.pnoel'), (1579, 'lettre_943.pnoel'), (1580, 'lettre_944.pnoel'), (1581, 'lettre_945.pnoel'), (1582, 'lettre_946.pnoel'), (1583, 'lettre_947.pnoel'), (1584, 'lettre_948.pnoel'), (1585, 'lettre_949.pnoel'), (1586, 'lettre_95.pnoel'), (1587, 'lettre_950.pnoel'), (1588, 'lettre_951.pnoel'), (1589, 'lettre_952.pnoel'), (1590, 'lettre_953.pnoel'), (1591, 'lettre_954.pnoel'), (1592, 'lettre_955.pnoel'), (1593, 'lettre_956.pnoel'), (1594, 'lettre_957.pnoel'), (1595, 'lettre_958.pnoel'), (1596, 'lettre_959.pnoel'), (1597, 'lettre_96.pnoel'), (1598, 'lettre_960.pnoel'), (1599, 'lettre_961.pnoel'), (1600, 'lettre_962.pnoel'), (1601, 'lettre_963.pnoel'), (1602, 'lettre_964.pnoel'), (1603, 'lettre_965.pnoel'), (1604, 'lettre_966.pnoel'), (1605, 'lettre_967.pnoel'), (1606, 'lettre_968.pnoel'), (1607, 'lettre_969.pnoel'), (1608, 'lettre_97.pnoel'), (1609, 'lettre_970.pnoel'), (1610, 'lettre_971.pnoel'), (1611, 'lettre_972.pnoel'), (1612, 'lettre_973.pnoel'), (1613, 'lettre_974.pnoel'), (1614, 'lettre_975.pnoel'), (1615, 'lettre_976.pnoel'), (1616, 'lettre_977.pnoel'), (1617, 'lettre_978.pnoel'), (1618, 'lettre_979.pnoel'), (1619, 'lettre_98.pnoel'), (1620, 'lettre_980.pnoel'), (1621, 'lettre_981.pnoel'), (1622, 'lettre_982.pnoel'), (1623, 'lettre_983.pnoel'), (1624, 'lettre_984.pnoel'), (1625, 'lettre_985.pnoel'), (1626, 'lettre_986.pnoel'), (1627, 'lettre_987.pnoel'), (1628, 'lettre_988.pnoel'), (1629, 'lettre_989.pnoel'), (1630, 'lettre_99.pnoel'), (1631, 'lettre_990.pnoel'), (1632, 'lettre_991.pnoel'), (1633, 'lettre_992.pnoel'), (1634, 'lettre_993.pnoel'), (1635, 'lettre_994.pnoel'), (1636, 'lettre_995.pnoel'), (1637, 'lettre_996.pnoel'), (1638, 'lettre_997.pnoel'), (1639, 'lettre_998.pnoel'), (1640, 'lettre_999.pnoel')]\n",
      "PostgreSQL connection is closed\n"
     ]
    }
   ],
   "source": [
    "#insertion de données\n",
    "conn=connexion_DB(\"santa_data\")\n",
    "try:\n",
    "    conn=connexion_DB(\"santa_data\")\n",
    "    cursor = conn.cursor()\n",
    "\n",
    "    path_dossier_letters=chemin_fichier() +'/lettres_pere_noel'\n",
    "    #print(path_dossier_letters)\n",
    "#'/home/tatindom/Santa-Data/santa-Groupe-DZJC/Partie_1/lettres_pere_noel')\n",
    "    \n",
    "    #recuperation du nom des fichiers <lettre---.pnoel>\n",
    "    list_letters=os.listdir(path_dossier_letters)\n",
    "    list_letters.sort()\n",
    "       \n",
    "    count=0\n",
    "    \n",
    "    for f_name in list_letters :\n",
    "        #print(f_name)\n",
    "        insert_data_query = f\"\"\" \n",
    "                        INSERT INTO T_letters\n",
    "                        (ID_l,Name_letter) \n",
    "                        VALUES (default,'{f_name}')\n",
    "                        \"\"\"\n",
    "        cursor.execute(insert_data_query)\n",
    "        #nb_l+=1\n",
    "        conn.commit()\n",
    "        count += cursor.rowcount\n",
    "    print (count, \"Record inserted successfully into mobile table\")\n",
    "    \n",
    "    cursor.execute(\"SELECT * FROM T_letters\")\n",
    "    #resultats=cur.execute(select_SQL)\n",
    "    res=cursor.fetchall()\n",
    "    print(res)\n",
    "    \n",
    "except (Exception, psycopg2.Error) as error :\n",
    "    if(conn):\n",
    "        print(\"Failed to insert record into table T_letters\", error)\n",
    "\n",
    "finally:\n",
    "    #closing database connection.\n",
    "    if(conn):\n",
    "        cursor.close()\n",
    "        deconnexion_DB(conn)"
   ]
  },
  {
   "cell_type": "code",
   "execution_count": null,
   "metadata": {},
   "outputs": [],
   "source": [
    "version: \"3\"\n",
    "\n",
    "services:\n",
    "  postgres:\n",
    "    image: \"postgres:latest\"\n",
    "    environment:\n",
    "      POSTGRES_USER: \"santa\"\n",
    "      POSTGRES_PASSWORD: \"claus\"\n",
    "      POSTGRES_DB: \"santa_data\"\n",
    "    volumes:\n",
    "      - \"./data/postgres:/var/lib/postgresql/data\"\n",
    "    ports:\n",
    "      - \"5432:5432\""
   ]
  },
  {
   "cell_type": "code",
   "execution_count": null,
   "metadata": {
    "scrolled": false
   },
   "outputs": [],
   "source": [
    "     \n",
    "      \n",
    "    # spécifiant le nom du fichier zip\n",
    "    file = \"lettres_pere_noel.zip\"\n",
    "      \n",
    "    # ouvrir le fichier zip en mode lecture\n",
    "    with ZipFile(file, 'r') as zip: \n",
    "        # afficher tout le contenu du fichier zip\n",
    "        zip.printdir() \n",
    "      \n",
    "        # extraire tous les fichiers\n",
    "        print('extraction...') \n",
    "        zip.extractall() \n",
    "        print('Terminé!')\n",
    "        "
   ]
  },
  {
   "cell_type": "code",
   "execution_count": null,
   "metadata": {
    "scrolled": true
   },
   "outputs": [],
   "source": [
    "#recuperer la liste des fichiers d'un dossier\n",
    "list_lettres=os.listdir('/home/tatindom/Santa-Data/santa-Groupe-DZJC/Partie_1/lettres_pere_noel')\n",
    "print(list_lettres)"
   ]
  },
  {
   "cell_type": "code",
   "execution_count": null,
   "metadata": {},
   "outputs": [],
   "source": [
    "print(list_lettres)"
   ]
  },
  {
   "cell_type": "code",
   "execution_count": null,
   "metadata": {},
   "outputs": [],
   "source": []
  }
 ],
 "metadata": {
  "kernelspec": {
   "display_name": "Python 3",
   "language": "python",
   "name": "python3"
  },
  "language_info": {
   "codemirror_mode": {
    "name": "ipython",
    "version": 3
   },
   "file_extension": ".py",
   "mimetype": "text/x-python",
   "name": "python",
   "nbconvert_exporter": "python",
   "pygments_lexer": "ipython3",
   "version": "3.6.8"
  }
 },
 "nbformat": 4,
 "nbformat_minor": 2
}
