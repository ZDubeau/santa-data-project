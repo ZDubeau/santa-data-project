{
 "cells": [
  {
   "cell_type": "code",
   "execution_count": null,
   "metadata": {},
   "outputs": [],
   "source": [
    "import os\n",
    "from zipfile import ZipFile\n",
    "import zipfile"
   ]
  },
  {
   "cell_type": "code",
   "execution_count": null,
   "metadata": {},
   "outputs": [],
   "source": [
    "def chemin_fichier()-> str :\n",
    "    \"\"\"\n",
    "        Donne le nom du chemin complet du fichier actuel (.py) \n",
    "    \"\"\"\n",
    "    chemin=os.getcwd() #methode pour tourner avec jupyter\n",
    "    #chemin= path.dirname(path.abspath(__file__)) #methode d'Alice avec <os>\n",
    "    #chemin = str(Path(__file__).parent) #ma methode avec <path>\n",
    "    print(chemin)\n",
    "    return chemin\n",
    "\n",
    "chemin_f=chemin_fichier()"
   ]
  },
  {
   "cell_type": "code",
   "execution_count": null,
   "metadata": {},
   "outputs": [],
   "source": [
    "# spécifiant le nom du fichier zip\n",
    "path_zip = chemin_f+\"/Partie_1/lettres_pere_noel.zip\"\n",
    "path_dzip = chemin_f+\"/Partie_1/\"\n",
    "\n",
    "# ouvrir le fichier zip en mode lecture\n",
    "with zipfile.ZipFile(path_zip) as zip: \n",
    "    # afficher tout le contenu du fichier zip\n",
    "    zip.printdir()\n",
    "    # extraire tous les fichiers\n",
    "    print('extraction...') \n",
    "    zip.extractall(path_dzip) \n",
    "    \n",
    "    print('Terminé!')"
   ]
  }
 ],
 "metadata": {
  "kernelspec": {
   "display_name": "Python 3",
   "language": "python",
   "name": "python3"
  },
  "language_info": {
   "codemirror_mode": {
    "name": "ipython",
    "version": 3
   },
   "file_extension": ".py",
   "mimetype": "text/x-python",
   "name": "python",
   "nbconvert_exporter": "python",
   "pygments_lexer": "ipython3",
   "version": "3.7.4"
  }
 },
 "nbformat": 4,
 "nbformat_minor": 2
}
